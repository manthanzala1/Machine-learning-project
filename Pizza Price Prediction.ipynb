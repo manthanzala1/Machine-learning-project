{
 "cells": [
  {
   "cell_type": "code",
   "execution_count": 1,
   "id": "54e15e8d",
   "metadata": {},
   "outputs": [],
   "source": [
    "import pandas as pd\n",
    "import numpy as np\n",
    "import seaborn as sns\n",
    "import matplotlib.pyplot as plt"
   ]
  },
  {
   "cell_type": "code",
   "execution_count": 2,
   "id": "f6e64f5a",
   "metadata": {},
   "outputs": [
    {
     "data": {
      "text/html": [
       "<div>\n",
       "<style scoped>\n",
       "    .dataframe tbody tr th:only-of-type {\n",
       "        vertical-align: middle;\n",
       "    }\n",
       "\n",
       "    .dataframe tbody tr th {\n",
       "        vertical-align: top;\n",
       "    }\n",
       "\n",
       "    .dataframe thead th {\n",
       "        text-align: right;\n",
       "    }\n",
       "</style>\n",
       "<table border=\"1\" class=\"dataframe\">\n",
       "  <thead>\n",
       "    <tr style=\"text-align: right;\">\n",
       "      <th></th>\n",
       "      <th>company</th>\n",
       "      <th>price_rupiah</th>\n",
       "      <th>diameter</th>\n",
       "      <th>topping</th>\n",
       "      <th>variant</th>\n",
       "      <th>size</th>\n",
       "      <th>extra_sauce</th>\n",
       "      <th>extra_cheese</th>\n",
       "      <th>extra_mushrooms</th>\n",
       "    </tr>\n",
       "  </thead>\n",
       "  <tbody>\n",
       "    <tr>\n",
       "      <th>0</th>\n",
       "      <td>A</td>\n",
       "      <td>Rp235,000</td>\n",
       "      <td>22 inch</td>\n",
       "      <td>chicken</td>\n",
       "      <td>double_signature</td>\n",
       "      <td>jumbo</td>\n",
       "      <td>yes</td>\n",
       "      <td>yes</td>\n",
       "      <td>no</td>\n",
       "    </tr>\n",
       "    <tr>\n",
       "      <th>1</th>\n",
       "      <td>A</td>\n",
       "      <td>Rp198,000</td>\n",
       "      <td>20 inch</td>\n",
       "      <td>papperoni</td>\n",
       "      <td>double_signature</td>\n",
       "      <td>jumbo</td>\n",
       "      <td>yes</td>\n",
       "      <td>yes</td>\n",
       "      <td>no</td>\n",
       "    </tr>\n",
       "    <tr>\n",
       "      <th>2</th>\n",
       "      <td>A</td>\n",
       "      <td>Rp120,000</td>\n",
       "      <td>16 inch</td>\n",
       "      <td>mushrooms</td>\n",
       "      <td>double_signature</td>\n",
       "      <td>reguler</td>\n",
       "      <td>yes</td>\n",
       "      <td>yes</td>\n",
       "      <td>yes</td>\n",
       "    </tr>\n",
       "    <tr>\n",
       "      <th>3</th>\n",
       "      <td>A</td>\n",
       "      <td>Rp155,000</td>\n",
       "      <td>14 inch</td>\n",
       "      <td>smoked_beef</td>\n",
       "      <td>double_signature</td>\n",
       "      <td>reguler</td>\n",
       "      <td>yes</td>\n",
       "      <td>no</td>\n",
       "      <td>yes</td>\n",
       "    </tr>\n",
       "    <tr>\n",
       "      <th>4</th>\n",
       "      <td>A</td>\n",
       "      <td>Rp248,000</td>\n",
       "      <td>18 inch</td>\n",
       "      <td>mozzarella</td>\n",
       "      <td>double_signature</td>\n",
       "      <td>jumbo</td>\n",
       "      <td>yes</td>\n",
       "      <td>no</td>\n",
       "      <td>yes</td>\n",
       "    </tr>\n",
       "    <tr>\n",
       "      <th>...</th>\n",
       "      <td>...</td>\n",
       "      <td>...</td>\n",
       "      <td>...</td>\n",
       "      <td>...</td>\n",
       "      <td>...</td>\n",
       "      <td>...</td>\n",
       "      <td>...</td>\n",
       "      <td>...</td>\n",
       "      <td>...</td>\n",
       "    </tr>\n",
       "    <tr>\n",
       "      <th>124</th>\n",
       "      <td>E</td>\n",
       "      <td>Rp39,000</td>\n",
       "      <td>8.5 inch</td>\n",
       "      <td>tuna</td>\n",
       "      <td>spicy tuna</td>\n",
       "      <td>small</td>\n",
       "      <td>yes</td>\n",
       "      <td>yes</td>\n",
       "      <td>yes</td>\n",
       "    </tr>\n",
       "    <tr>\n",
       "      <th>125</th>\n",
       "      <td>E</td>\n",
       "      <td>Rp72,000</td>\n",
       "      <td>12 inch</td>\n",
       "      <td>tuna</td>\n",
       "      <td>spicy tuna</td>\n",
       "      <td>medium</td>\n",
       "      <td>yes</td>\n",
       "      <td>yes</td>\n",
       "      <td>yes</td>\n",
       "    </tr>\n",
       "    <tr>\n",
       "      <th>126</th>\n",
       "      <td>E</td>\n",
       "      <td>Rp99,000</td>\n",
       "      <td>14 inch</td>\n",
       "      <td>tuna</td>\n",
       "      <td>spicy tuna</td>\n",
       "      <td>large</td>\n",
       "      <td>yes</td>\n",
       "      <td>yes</td>\n",
       "      <td>yes</td>\n",
       "    </tr>\n",
       "    <tr>\n",
       "      <th>127</th>\n",
       "      <td>E</td>\n",
       "      <td>Rp44,000</td>\n",
       "      <td>8.5 inch</td>\n",
       "      <td>meat</td>\n",
       "      <td>BBQ_meat_fiesta</td>\n",
       "      <td>small</td>\n",
       "      <td>yes</td>\n",
       "      <td>no</td>\n",
       "      <td>yes</td>\n",
       "    </tr>\n",
       "    <tr>\n",
       "      <th>128</th>\n",
       "      <td>E</td>\n",
       "      <td>Rp78,000</td>\n",
       "      <td>12 inch</td>\n",
       "      <td>meat</td>\n",
       "      <td>BBQ_meat_fiesta</td>\n",
       "      <td>medium</td>\n",
       "      <td>no</td>\n",
       "      <td>no</td>\n",
       "      <td>yes</td>\n",
       "    </tr>\n",
       "  </tbody>\n",
       "</table>\n",
       "<p>129 rows × 9 columns</p>\n",
       "</div>"
      ],
      "text/plain": [
       "    company price_rupiah  diameter      topping           variant     size  \\\n",
       "0         A    Rp235,000   22 inch      chicken  double_signature    jumbo   \n",
       "1         A    Rp198,000   20 inch    papperoni  double_signature    jumbo   \n",
       "2         A    Rp120,000   16 inch    mushrooms  double_signature  reguler   \n",
       "3         A    Rp155,000   14 inch  smoked_beef  double_signature  reguler   \n",
       "4         A    Rp248,000   18 inch   mozzarella  double_signature    jumbo   \n",
       "..      ...          ...       ...          ...               ...      ...   \n",
       "124       E     Rp39,000  8.5 inch         tuna        spicy tuna    small   \n",
       "125       E     Rp72,000   12 inch         tuna        spicy tuna   medium   \n",
       "126       E     Rp99,000   14 inch         tuna        spicy tuna    large   \n",
       "127       E     Rp44,000  8.5 inch         meat   BBQ_meat_fiesta    small   \n",
       "128       E     Rp78,000   12 inch         meat   BBQ_meat_fiesta   medium   \n",
       "\n",
       "    extra_sauce extra_cheese extra_mushrooms  \n",
       "0           yes          yes              no  \n",
       "1           yes          yes              no  \n",
       "2           yes          yes             yes  \n",
       "3           yes           no             yes  \n",
       "4           yes           no             yes  \n",
       "..          ...          ...             ...  \n",
       "124         yes          yes             yes  \n",
       "125         yes          yes             yes  \n",
       "126         yes          yes             yes  \n",
       "127         yes           no             yes  \n",
       "128          no           no             yes  \n",
       "\n",
       "[129 rows x 9 columns]"
      ]
     },
     "execution_count": 2,
     "metadata": {},
     "output_type": "execute_result"
    }
   ],
   "source": [
    "df = pd.read_csv(r\"C:\\Users\\manth\\Downloads\\pizza_v2.csv\")\n",
    "df"
   ]
  },
  {
   "cell_type": "code",
   "execution_count": 3,
   "id": "7c542566",
   "metadata": {},
   "outputs": [
    {
     "data": {
      "text/plain": [
       "(129, 9)"
      ]
     },
     "execution_count": 3,
     "metadata": {},
     "output_type": "execute_result"
    }
   ],
   "source": [
    "# check the number of row and columns\n",
    "df.shape"
   ]
  },
  {
   "cell_type": "code",
   "execution_count": 4,
   "id": "4129e5f5",
   "metadata": {},
   "outputs": [
    {
     "name": "stdout",
     "output_type": "stream",
     "text": [
      "<class 'pandas.core.frame.DataFrame'>\n",
      "RangeIndex: 129 entries, 0 to 128\n",
      "Data columns (total 9 columns):\n",
      " #   Column           Non-Null Count  Dtype \n",
      "---  ------           --------------  ----- \n",
      " 0   company          129 non-null    object\n",
      " 1   price_rupiah     129 non-null    object\n",
      " 2   diameter         129 non-null    object\n",
      " 3   topping          129 non-null    object\n",
      " 4   variant          129 non-null    object\n",
      " 5   size             129 non-null    object\n",
      " 6   extra_sauce      129 non-null    object\n",
      " 7   extra_cheese     129 non-null    object\n",
      " 8   extra_mushrooms  129 non-null    object\n",
      "dtypes: object(9)\n",
      "memory usage: 9.2+ KB\n"
     ]
    }
   ],
   "source": [
    "# check the data types\n",
    "df.info()"
   ]
  },
  {
   "cell_type": "code",
   "execution_count": 5,
   "id": "a461cc74",
   "metadata": {},
   "outputs": [
    {
     "data": {
      "text/plain": [
       "company            0\n",
       "price_rupiah       0\n",
       "diameter           0\n",
       "topping            0\n",
       "variant            0\n",
       "size               0\n",
       "extra_sauce        0\n",
       "extra_cheese       0\n",
       "extra_mushrooms    0\n",
       "dtype: int64"
      ]
     },
     "execution_count": 5,
     "metadata": {},
     "output_type": "execute_result"
    }
   ],
   "source": [
    "# check the null values\n",
    "df.isnull().sum()"
   ]
  },
  {
   "cell_type": "code",
   "execution_count": 6,
   "id": "2194a43c",
   "metadata": {},
   "outputs": [
    {
     "data": {
      "text/plain": [
       "4"
      ]
     },
     "execution_count": 6,
     "metadata": {},
     "output_type": "execute_result"
    }
   ],
   "source": [
    "# check the duplicated values\n",
    "df.duplicated(keep = False).sum()"
   ]
  },
  {
   "cell_type": "code",
   "execution_count": 7,
   "id": "253d4129",
   "metadata": {},
   "outputs": [],
   "source": [
    "# drop the duplicate values\n",
    "df.drop_duplicates(inplace = True)"
   ]
  },
  {
   "cell_type": "code",
   "execution_count": 8,
   "id": "c13ecc1f",
   "metadata": {},
   "outputs": [
    {
     "data": {
      "text/html": [
       "<div>\n",
       "<style scoped>\n",
       "    .dataframe tbody tr th:only-of-type {\n",
       "        vertical-align: middle;\n",
       "    }\n",
       "\n",
       "    .dataframe tbody tr th {\n",
       "        vertical-align: top;\n",
       "    }\n",
       "\n",
       "    .dataframe thead th {\n",
       "        text-align: right;\n",
       "    }\n",
       "</style>\n",
       "<table border=\"1\" class=\"dataframe\">\n",
       "  <thead>\n",
       "    <tr style=\"text-align: right;\">\n",
       "      <th></th>\n",
       "      <th>company</th>\n",
       "      <th>price_rupiah</th>\n",
       "      <th>diameter</th>\n",
       "      <th>topping</th>\n",
       "      <th>variant</th>\n",
       "      <th>size</th>\n",
       "      <th>extra_sauce</th>\n",
       "      <th>extra_cheese</th>\n",
       "      <th>extra_mushrooms</th>\n",
       "    </tr>\n",
       "  </thead>\n",
       "  <tbody>\n",
       "    <tr>\n",
       "      <th>0</th>\n",
       "      <td>A</td>\n",
       "      <td>Rp235,000</td>\n",
       "      <td>22 inch</td>\n",
       "      <td>chicken</td>\n",
       "      <td>double_signature</td>\n",
       "      <td>jumbo</td>\n",
       "      <td>yes</td>\n",
       "      <td>yes</td>\n",
       "      <td>no</td>\n",
       "    </tr>\n",
       "    <tr>\n",
       "      <th>1</th>\n",
       "      <td>A</td>\n",
       "      <td>Rp198,000</td>\n",
       "      <td>20 inch</td>\n",
       "      <td>papperoni</td>\n",
       "      <td>double_signature</td>\n",
       "      <td>jumbo</td>\n",
       "      <td>yes</td>\n",
       "      <td>yes</td>\n",
       "      <td>no</td>\n",
       "    </tr>\n",
       "    <tr>\n",
       "      <th>2</th>\n",
       "      <td>A</td>\n",
       "      <td>Rp120,000</td>\n",
       "      <td>16 inch</td>\n",
       "      <td>mushrooms</td>\n",
       "      <td>double_signature</td>\n",
       "      <td>reguler</td>\n",
       "      <td>yes</td>\n",
       "      <td>yes</td>\n",
       "      <td>yes</td>\n",
       "    </tr>\n",
       "    <tr>\n",
       "      <th>3</th>\n",
       "      <td>A</td>\n",
       "      <td>Rp155,000</td>\n",
       "      <td>14 inch</td>\n",
       "      <td>smoked_beef</td>\n",
       "      <td>double_signature</td>\n",
       "      <td>reguler</td>\n",
       "      <td>yes</td>\n",
       "      <td>no</td>\n",
       "      <td>yes</td>\n",
       "    </tr>\n",
       "    <tr>\n",
       "      <th>4</th>\n",
       "      <td>A</td>\n",
       "      <td>Rp248,000</td>\n",
       "      <td>18 inch</td>\n",
       "      <td>mozzarella</td>\n",
       "      <td>double_signature</td>\n",
       "      <td>jumbo</td>\n",
       "      <td>yes</td>\n",
       "      <td>no</td>\n",
       "      <td>yes</td>\n",
       "    </tr>\n",
       "    <tr>\n",
       "      <th>...</th>\n",
       "      <td>...</td>\n",
       "      <td>...</td>\n",
       "      <td>...</td>\n",
       "      <td>...</td>\n",
       "      <td>...</td>\n",
       "      <td>...</td>\n",
       "      <td>...</td>\n",
       "      <td>...</td>\n",
       "      <td>...</td>\n",
       "    </tr>\n",
       "    <tr>\n",
       "      <th>124</th>\n",
       "      <td>E</td>\n",
       "      <td>Rp39,000</td>\n",
       "      <td>8.5 inch</td>\n",
       "      <td>tuna</td>\n",
       "      <td>spicy tuna</td>\n",
       "      <td>small</td>\n",
       "      <td>yes</td>\n",
       "      <td>yes</td>\n",
       "      <td>yes</td>\n",
       "    </tr>\n",
       "    <tr>\n",
       "      <th>125</th>\n",
       "      <td>E</td>\n",
       "      <td>Rp72,000</td>\n",
       "      <td>12 inch</td>\n",
       "      <td>tuna</td>\n",
       "      <td>spicy tuna</td>\n",
       "      <td>medium</td>\n",
       "      <td>yes</td>\n",
       "      <td>yes</td>\n",
       "      <td>yes</td>\n",
       "    </tr>\n",
       "    <tr>\n",
       "      <th>126</th>\n",
       "      <td>E</td>\n",
       "      <td>Rp99,000</td>\n",
       "      <td>14 inch</td>\n",
       "      <td>tuna</td>\n",
       "      <td>spicy tuna</td>\n",
       "      <td>large</td>\n",
       "      <td>yes</td>\n",
       "      <td>yes</td>\n",
       "      <td>yes</td>\n",
       "    </tr>\n",
       "    <tr>\n",
       "      <th>127</th>\n",
       "      <td>E</td>\n",
       "      <td>Rp44,000</td>\n",
       "      <td>8.5 inch</td>\n",
       "      <td>meat</td>\n",
       "      <td>BBQ_meat_fiesta</td>\n",
       "      <td>small</td>\n",
       "      <td>yes</td>\n",
       "      <td>no</td>\n",
       "      <td>yes</td>\n",
       "    </tr>\n",
       "    <tr>\n",
       "      <th>128</th>\n",
       "      <td>E</td>\n",
       "      <td>Rp78,000</td>\n",
       "      <td>12 inch</td>\n",
       "      <td>meat</td>\n",
       "      <td>BBQ_meat_fiesta</td>\n",
       "      <td>medium</td>\n",
       "      <td>no</td>\n",
       "      <td>no</td>\n",
       "      <td>yes</td>\n",
       "    </tr>\n",
       "  </tbody>\n",
       "</table>\n",
       "<p>127 rows × 9 columns</p>\n",
       "</div>"
      ],
      "text/plain": [
       "    company price_rupiah  diameter      topping           variant     size  \\\n",
       "0         A    Rp235,000   22 inch      chicken  double_signature    jumbo   \n",
       "1         A    Rp198,000   20 inch    papperoni  double_signature    jumbo   \n",
       "2         A    Rp120,000   16 inch    mushrooms  double_signature  reguler   \n",
       "3         A    Rp155,000   14 inch  smoked_beef  double_signature  reguler   \n",
       "4         A    Rp248,000   18 inch   mozzarella  double_signature    jumbo   \n",
       "..      ...          ...       ...          ...               ...      ...   \n",
       "124       E     Rp39,000  8.5 inch         tuna        spicy tuna    small   \n",
       "125       E     Rp72,000   12 inch         tuna        spicy tuna   medium   \n",
       "126       E     Rp99,000   14 inch         tuna        spicy tuna    large   \n",
       "127       E     Rp44,000  8.5 inch         meat   BBQ_meat_fiesta    small   \n",
       "128       E     Rp78,000   12 inch         meat   BBQ_meat_fiesta   medium   \n",
       "\n",
       "    extra_sauce extra_cheese extra_mushrooms  \n",
       "0           yes          yes              no  \n",
       "1           yes          yes              no  \n",
       "2           yes          yes             yes  \n",
       "3           yes           no             yes  \n",
       "4           yes           no             yes  \n",
       "..          ...          ...             ...  \n",
       "124         yes          yes             yes  \n",
       "125         yes          yes             yes  \n",
       "126         yes          yes             yes  \n",
       "127         yes           no             yes  \n",
       "128          no           no             yes  \n",
       "\n",
       "[127 rows x 9 columns]"
      ]
     },
     "execution_count": 8,
     "metadata": {},
     "output_type": "execute_result"
    }
   ],
   "source": [
    "df"
   ]
  },
  {
   "cell_type": "code",
   "execution_count": 9,
   "id": "3e476b9d",
   "metadata": {},
   "outputs": [],
   "source": [
    "df['price_rupiah'] = df['price_rupiah'].str.replace('Rp','')\n",
    "df['price_rupiah'] = df['price_rupiah'].str.replace(',','')\n",
    "df['price_rupiah'] = df['price_rupiah'].astype(int)"
   ]
  },
  {
   "cell_type": "code",
   "execution_count": 10,
   "id": "df6e9e8c",
   "metadata": {},
   "outputs": [],
   "source": [
    "df['diameter'] = df['diameter'].str.replace('inch','')"
   ]
  },
  {
   "cell_type": "code",
   "execution_count": 11,
   "id": "af0939c6",
   "metadata": {},
   "outputs": [],
   "source": [
    "df['diameter'] = df['diameter'].astype(float)"
   ]
  },
  {
   "cell_type": "code",
   "execution_count": 12,
   "id": "e55124e2",
   "metadata": {},
   "outputs": [
    {
     "data": {
      "text/plain": [
       "company             object\n",
       "price_rupiah         int32\n",
       "diameter           float64\n",
       "topping             object\n",
       "variant             object\n",
       "size                object\n",
       "extra_sauce         object\n",
       "extra_cheese        object\n",
       "extra_mushrooms     object\n",
       "dtype: object"
      ]
     },
     "execution_count": 12,
     "metadata": {},
     "output_type": "execute_result"
    }
   ],
   "source": [
    "df.dtypes"
   ]
  },
  {
   "cell_type": "code",
   "execution_count": 13,
   "id": "b79266ae",
   "metadata": {},
   "outputs": [
    {
     "data": {
      "image/png": "[encoded data removed]",
      "text/plain": [
       "<Figure size 640x480 with 1 Axes>"
      ]
     },
     "metadata": {},
     "output_type": "display_data"
    }
   ],
   "source": [
    "# check the outliers\n",
    "sns.boxplot(x = 'price_rupiah',data = df)\n",
    "plt.show()"
   ]
  },
  {
   "cell_type": "code",
   "execution_count": 14,
   "id": "6058c2bb",
   "metadata": {},
   "outputs": [
    {
     "name": "stdout",
     "output_type": "stream",
     "text": [
      "0     235000\n",
      "1     198000\n",
      "4     248000\n",
      "20    230000\n",
      "21    188000\n",
      "84    230000\n",
      "85    188000\n",
      "Name: price_rupiah, dtype: int32\n",
      "188000\n"
     ]
    }
   ],
   "source": [
    "q1,q3 = np.percentile(df['price_rupiah'],[25,75])\n",
    "iqr = q3-q1\n",
    "lower = q1-1.5*iqr\n",
    "upper = q3+1.5*iqr\n",
    "outlier = df['price_rupiah'][(df['price_rupiah']<lower)|(df['price_rupiah']>upper)]\n",
    "print(outlier)\n",
    "print(min(outlier))"
   ]
  },
  {
   "cell_type": "code",
   "execution_count": 15,
   "id": "e38de562",
   "metadata": {
    "scrolled": true
   },
   "outputs": [
    {
     "data": {
      "text/html": [
       "<div>\n",
       "<style scoped>\n",
       "    .dataframe tbody tr th:only-of-type {\n",
       "        vertical-align: middle;\n",
       "    }\n",
       "\n",
       "    .dataframe tbody tr th {\n",
       "        vertical-align: top;\n",
       "    }\n",
       "\n",
       "    .dataframe thead th {\n",
       "        text-align: right;\n",
       "    }\n",
       "</style>\n",
       "<table border=\"1\" class=\"dataframe\">\n",
       "  <thead>\n",
       "    <tr style=\"text-align: right;\">\n",
       "      <th></th>\n",
       "      <th>company</th>\n",
       "      <th>price_rupiah</th>\n",
       "      <th>diameter</th>\n",
       "      <th>topping</th>\n",
       "      <th>variant</th>\n",
       "      <th>size</th>\n",
       "      <th>extra_sauce</th>\n",
       "      <th>extra_cheese</th>\n",
       "      <th>extra_mushrooms</th>\n",
       "    </tr>\n",
       "  </thead>\n",
       "  <tbody>\n",
       "    <tr>\n",
       "      <th>2</th>\n",
       "      <td>A</td>\n",
       "      <td>120000</td>\n",
       "      <td>16.0</td>\n",
       "      <td>mushrooms</td>\n",
       "      <td>double_signature</td>\n",
       "      <td>reguler</td>\n",
       "      <td>yes</td>\n",
       "      <td>yes</td>\n",
       "      <td>yes</td>\n",
       "    </tr>\n",
       "    <tr>\n",
       "      <th>3</th>\n",
       "      <td>A</td>\n",
       "      <td>155000</td>\n",
       "      <td>14.0</td>\n",
       "      <td>smoked_beef</td>\n",
       "      <td>double_signature</td>\n",
       "      <td>reguler</td>\n",
       "      <td>yes</td>\n",
       "      <td>no</td>\n",
       "      <td>yes</td>\n",
       "    </tr>\n",
       "    <tr>\n",
       "      <th>5</th>\n",
       "      <td>A</td>\n",
       "      <td>140000</td>\n",
       "      <td>18.5</td>\n",
       "      <td>black_papper</td>\n",
       "      <td>american_favorite</td>\n",
       "      <td>jumbo</td>\n",
       "      <td>no</td>\n",
       "      <td>no</td>\n",
       "      <td>yes</td>\n",
       "    </tr>\n",
       "    <tr>\n",
       "      <th>6</th>\n",
       "      <td>A</td>\n",
       "      <td>110000</td>\n",
       "      <td>16.0</td>\n",
       "      <td>smoked_beef</td>\n",
       "      <td>american_favorite</td>\n",
       "      <td>jumbo</td>\n",
       "      <td>no</td>\n",
       "      <td>yes</td>\n",
       "      <td>yes</td>\n",
       "    </tr>\n",
       "    <tr>\n",
       "      <th>7</th>\n",
       "      <td>A</td>\n",
       "      <td>70000</td>\n",
       "      <td>8.0</td>\n",
       "      <td>papperoni</td>\n",
       "      <td>american_favorite</td>\n",
       "      <td>reguler</td>\n",
       "      <td>no</td>\n",
       "      <td>no</td>\n",
       "      <td>yes</td>\n",
       "    </tr>\n",
       "    <tr>\n",
       "      <th>...</th>\n",
       "      <td>...</td>\n",
       "      <td>...</td>\n",
       "      <td>...</td>\n",
       "      <td>...</td>\n",
       "      <td>...</td>\n",
       "      <td>...</td>\n",
       "      <td>...</td>\n",
       "      <td>...</td>\n",
       "      <td>...</td>\n",
       "    </tr>\n",
       "    <tr>\n",
       "      <th>124</th>\n",
       "      <td>E</td>\n",
       "      <td>39000</td>\n",
       "      <td>8.5</td>\n",
       "      <td>tuna</td>\n",
       "      <td>spicy tuna</td>\n",
       "      <td>small</td>\n",
       "      <td>yes</td>\n",
       "      <td>yes</td>\n",
       "      <td>yes</td>\n",
       "    </tr>\n",
       "    <tr>\n",
       "      <th>125</th>\n",
       "      <td>E</td>\n",
       "      <td>72000</td>\n",
       "      <td>12.0</td>\n",
       "      <td>tuna</td>\n",
       "      <td>spicy tuna</td>\n",
       "      <td>medium</td>\n",
       "      <td>yes</td>\n",
       "      <td>yes</td>\n",
       "      <td>yes</td>\n",
       "    </tr>\n",
       "    <tr>\n",
       "      <th>126</th>\n",
       "      <td>E</td>\n",
       "      <td>99000</td>\n",
       "      <td>14.0</td>\n",
       "      <td>tuna</td>\n",
       "      <td>spicy tuna</td>\n",
       "      <td>large</td>\n",
       "      <td>yes</td>\n",
       "      <td>yes</td>\n",
       "      <td>yes</td>\n",
       "    </tr>\n",
       "    <tr>\n",
       "      <th>127</th>\n",
       "      <td>E</td>\n",
       "      <td>44000</td>\n",
       "      <td>8.5</td>\n",
       "      <td>meat</td>\n",
       "      <td>BBQ_meat_fiesta</td>\n",
       "      <td>small</td>\n",
       "      <td>yes</td>\n",
       "      <td>no</td>\n",
       "      <td>yes</td>\n",
       "    </tr>\n",
       "    <tr>\n",
       "      <th>128</th>\n",
       "      <td>E</td>\n",
       "      <td>78000</td>\n",
       "      <td>12.0</td>\n",
       "      <td>meat</td>\n",
       "      <td>BBQ_meat_fiesta</td>\n",
       "      <td>medium</td>\n",
       "      <td>no</td>\n",
       "      <td>no</td>\n",
       "      <td>yes</td>\n",
       "    </tr>\n",
       "  </tbody>\n",
       "</table>\n",
       "<p>122 rows × 9 columns</p>\n",
       "</div>"
      ],
      "text/plain": [
       "    company  price_rupiah  diameter       topping            variant     size  \\\n",
       "2         A        120000      16.0     mushrooms   double_signature  reguler   \n",
       "3         A        155000      14.0   smoked_beef   double_signature  reguler   \n",
       "5         A        140000      18.5  black_papper  american_favorite    jumbo   \n",
       "6         A        110000      16.0   smoked_beef  american_favorite    jumbo   \n",
       "7         A         70000       8.0     papperoni  american_favorite  reguler   \n",
       "..      ...           ...       ...           ...                ...      ...   \n",
       "124       E         39000       8.5          tuna         spicy tuna    small   \n",
       "125       E         72000      12.0          tuna         spicy tuna   medium   \n",
       "126       E         99000      14.0          tuna         spicy tuna    large   \n",
       "127       E         44000       8.5          meat    BBQ_meat_fiesta    small   \n",
       "128       E         78000      12.0          meat    BBQ_meat_fiesta   medium   \n",
       "\n",
       "    extra_sauce extra_cheese extra_mushrooms  \n",
       "2           yes          yes             yes  \n",
       "3           yes           no             yes  \n",
       "5            no           no             yes  \n",
       "6            no          yes             yes  \n",
       "7            no           no             yes  \n",
       "..          ...          ...             ...  \n",
       "124         yes          yes             yes  \n",
       "125         yes          yes             yes  \n",
       "126         yes          yes             yes  \n",
       "127         yes           no             yes  \n",
       "128          no           no             yes  \n",
       "\n",
       "[122 rows x 9 columns]"
      ]
     },
     "execution_count": 15,
     "metadata": {},
     "output_type": "execute_result"
    }
   ],
   "source": [
    "# remove outliers\n",
    "df = df[df['price_rupiah']<=188000]\n",
    "df"
   ]
  },
  {
   "cell_type": "code",
   "execution_count": 16,
   "id": "cfb8e61f",
   "metadata": {},
   "outputs": [
    {
     "data": {
      "text/plain": [
       "chicken         25\n",
       "mushrooms       22\n",
       "smoked_beef     19\n",
       "mozzarella      19\n",
       "tuna             9\n",
       "vegetables       9\n",
       "meat             8\n",
       "black_papper     3\n",
       "sausage          3\n",
       "beef             3\n",
       "papperoni        1\n",
       "onion            1\n",
       "Name: topping, dtype: int64"
      ]
     },
     "execution_count": 16,
     "metadata": {},
     "output_type": "execute_result"
    }
   ],
   "source": [
    "# count topping\n",
    "df['topping'].value_counts()"
   ]
  },
  {
   "cell_type": "code",
   "execution_count": 17,
   "id": "ee1dd6da",
   "metadata": {},
   "outputs": [
    {
     "data": {
      "text/plain": [
       "classic              30\n",
       "meat_lovers          10\n",
       "crunchy              10\n",
       "double_decker         9\n",
       "double_mix            8\n",
       "new_york              8\n",
       "BBQ_meat_fiesta       5\n",
       "super_supreme         5\n",
       "american_favorite     5\n",
       "gournet_greek         3\n",
       "neptune_tuna          3\n",
       "american_classic      3\n",
       "thai_veggie           3\n",
       "italian_veggie        3\n",
       "spicy tuna            3\n",
       "meat_eater            3\n",
       "extravaganza          3\n",
       "BBQ_sausage           3\n",
       "spicy_tuna            3\n",
       "double_signature      2\n",
       "Name: variant, dtype: int64"
      ]
     },
     "execution_count": 17,
     "metadata": {},
     "output_type": "execute_result"
    }
   ],
   "source": [
    "# count variant\n",
    "df['variant'].value_counts()"
   ]
  },
  {
   "cell_type": "code",
   "execution_count": 18,
   "id": "5a47c6d7",
   "metadata": {},
   "outputs": [
    {
     "data": {
      "image/png": "[encoded data removed]",
      "text/plain": [
       "<Figure size 640x480 with 1 Axes>"
      ]
     },
     "metadata": {},
     "output_type": "display_data"
    }
   ],
   "source": [
    "# data visulizations\n",
    "a = df.groupby('company')['price_rupiah'].max().sort_values(ascending = False).head(5)\n",
    "b = sns.barplot(x = a.index,y = a.values,data = df)\n",
    "for i in b.containers:\n",
    "    b.bar_label(i,)\n",
    "plt.show()"
   ]
  },
  {
   "cell_type": "code",
   "execution_count": 19,
   "id": "c4e5e225",
   "metadata": {},
   "outputs": [
    {
     "data": {
      "image/png": "[encoded data removed]",
      "text/plain": [
       "<Figure size 640x480 with 1 Axes>"
      ]
     },
     "metadata": {},
     "output_type": "display_data"
    }
   ],
   "source": [
    "c = sns.countplot(x = 'size',data = df)\n",
    "for i in c.containers:\n",
    "    c.bar_label(i,)\n",
    "plt.show()"
   ]
  },
  {
   "cell_type": "code",
   "execution_count": 20,
   "id": "fd7f8906",
   "metadata": {},
   "outputs": [
    {
     "data": {
      "image/png": "[encoded data removed]",
      "text/plain": [
       "<Figure size 640x480 with 1 Axes>"
      ]
     },
     "metadata": {},
     "output_type": "display_data"
    }
   ],
   "source": [
    "d = df['extra_sauce'].value_counts()\n",
    "plt.pie(x = d.values,labels = d.index,autopct='%.2f%%')\n",
    "plt.show()"
   ]
  },
  {
   "cell_type": "code",
   "execution_count": 21,
   "id": "9458784e",
   "metadata": {},
   "outputs": [
    {
     "data": {
      "image/png": "[encoded data removed]",
      "text/plain": [
       "<Figure size 640x480 with 1 Axes>"
      ]
     },
     "metadata": {},
     "output_type": "display_data"
    }
   ],
   "source": [
    "e = df['extra_cheese'].value_counts()\n",
    "plt.pie(x = e.values,labels = e.index,autopct='%.2f%%')\n",
    "plt.show()"
   ]
  },
  {
   "cell_type": "code",
   "execution_count": 22,
   "id": "674e9f93",
   "metadata": {},
   "outputs": [
    {
     "data": {
      "image/png": "[encoded data removed]",
      "text/plain": [
       "<Figure size 640x480 with 1 Axes>"
      ]
     },
     "metadata": {},
     "output_type": "display_data"
    }
   ],
   "source": [
    "sns.histplot(x = 'price_rupiah',data = df,kde = True,bins = 10)\n",
    "plt.show()"
   ]
  },
  {
   "cell_type": "code",
   "execution_count": 23,
   "id": "2931dc90",
   "metadata": {},
   "outputs": [],
   "source": [
    "# future encoding\n",
    "from sklearn.preprocessing import LabelEncoder"
   ]
  },
  {
   "cell_type": "code",
   "execution_count": 24,
   "id": "bc3fd5c5",
   "metadata": {},
   "outputs": [],
   "source": [
    "la = LabelEncoder()"
   ]
  },
  {
   "cell_type": "code",
   "execution_count": 25,
   "id": "5da8fe29",
   "metadata": {},
   "outputs": [
    {
     "name": "stderr",
     "output_type": "stream",
     "text": [
      "C:\\Users\\manth\\AppData\\Local\\Temp\\ipykernel_8668\\4085179271.py:1: SettingWithCopyWarning: \n",
      "A value is trying to be set on a copy of a slice from a DataFrame.\n",
      "Try using .loc[row_indexer,col_indexer] = value instead\n",
      "\n",
      "See the caveats in the documentation: https://pandas.pydata.org/pandas-docs/stable/user_guide/indexing.html#returning-a-view-versus-a-copy\n",
      "  df['newcompany'] = la.fit_transform(df['company'])\n",
      "C:\\Users\\manth\\AppData\\Local\\Temp\\ipykernel_8668\\4085179271.py:2: SettingWithCopyWarning: \n",
      "A value is trying to be set on a copy of a slice from a DataFrame.\n",
      "Try using .loc[row_indexer,col_indexer] = value instead\n",
      "\n",
      "See the caveats in the documentation: https://pandas.pydata.org/pandas-docs/stable/user_guide/indexing.html#returning-a-view-versus-a-copy\n",
      "  df['newtopping'] = la.fit_transform(df['topping'])\n",
      "C:\\Users\\manth\\AppData\\Local\\Temp\\ipykernel_8668\\4085179271.py:3: SettingWithCopyWarning: \n",
      "A value is trying to be set on a copy of a slice from a DataFrame.\n",
      "Try using .loc[row_indexer,col_indexer] = value instead\n",
      "\n",
      "See the caveats in the documentation: https://pandas.pydata.org/pandas-docs/stable/user_guide/indexing.html#returning-a-view-versus-a-copy\n",
      "  df['newvariant'] = la.fit_transform(df['variant'])\n",
      "C:\\Users\\manth\\AppData\\Local\\Temp\\ipykernel_8668\\4085179271.py:4: SettingWithCopyWarning: \n",
      "A value is trying to be set on a copy of a slice from a DataFrame.\n",
      "Try using .loc[row_indexer,col_indexer] = value instead\n",
      "\n",
      "See the caveats in the documentation: https://pandas.pydata.org/pandas-docs/stable/user_guide/indexing.html#returning-a-view-versus-a-copy\n",
      "  df['newsize'] = la.fit_transform(df['size'])\n",
      "C:\\Users\\manth\\AppData\\Local\\Temp\\ipykernel_8668\\4085179271.py:5: SettingWithCopyWarning: \n",
      "A value is trying to be set on a copy of a slice from a DataFrame.\n",
      "Try using .loc[row_indexer,col_indexer] = value instead\n",
      "\n",
      "See the caveats in the documentation: https://pandas.pydata.org/pandas-docs/stable/user_guide/indexing.html#returning-a-view-versus-a-copy\n",
      "  df['newextra_sauce'] = la.fit_transform(df['extra_sauce'])\n",
      "C:\\Users\\manth\\AppData\\Local\\Temp\\ipykernel_8668\\4085179271.py:6: SettingWithCopyWarning: \n",
      "A value is trying to be set on a copy of a slice from a DataFrame.\n",
      "Try using .loc[row_indexer,col_indexer] = value instead\n",
      "\n",
      "See the caveats in the documentation: https://pandas.pydata.org/pandas-docs/stable/user_guide/indexing.html#returning-a-view-versus-a-copy\n",
      "  df['newextra_cheese'] = la.fit_transform(df['extra_cheese'])\n",
      "C:\\Users\\manth\\AppData\\Local\\Temp\\ipykernel_8668\\4085179271.py:7: SettingWithCopyWarning: \n",
      "A value is trying to be set on a copy of a slice from a DataFrame.\n",
      "Try using .loc[row_indexer,col_indexer] = value instead\n",
      "\n",
      "See the caveats in the documentation: https://pandas.pydata.org/pandas-docs/stable/user_guide/indexing.html#returning-a-view-versus-a-copy\n",
      "  df['newextra_mushrooms'] = la.fit_transform(df['extra_mushrooms'])\n"
     ]
    }
   ],
   "source": [
    "df['newcompany'] = la.fit_transform(df['company'])\n",
    "df['newtopping'] = la.fit_transform(df['topping'])\n",
    "df['newvariant'] = la.fit_transform(df['variant'])\n",
    "df['newsize'] = la.fit_transform(df['size'])\n",
    "df['newextra_sauce'] = la.fit_transform(df['extra_sauce'])\n",
    "df['newextra_cheese'] = la.fit_transform(df['extra_cheese'])\n",
    "df['newextra_mushrooms'] = la.fit_transform(df['extra_mushrooms'])"
   ]
  },
  {
   "cell_type": "code",
   "execution_count": 26,
   "id": "ff1e5d27",
   "metadata": {},
   "outputs": [
    {
     "name": "stderr",
     "output_type": "stream",
     "text": [
      "C:\\Users\\manth\\AppData\\Local\\Temp\\ipykernel_8668\\2467713714.py:1: SettingWithCopyWarning: \n",
      "A value is trying to be set on a copy of a slice from a DataFrame\n",
      "\n",
      "See the caveats in the documentation: https://pandas.pydata.org/pandas-docs/stable/user_guide/indexing.html#returning-a-view-versus-a-copy\n",
      "  df.drop(['company','topping','variant','size','extra_sauce','extra_cheese','extra_mushrooms'],axis = 1,inplace = True)\n"
     ]
    }
   ],
   "source": [
    "df.drop(['company','topping','variant','size','extra_sauce','extra_cheese','extra_mushrooms'],axis = 1,inplace = True)"
   ]
  },
  {
   "cell_type": "code",
   "execution_count": 27,
   "id": "4ec7dd2b",
   "metadata": {},
   "outputs": [
    {
     "data": {
      "text/html": [
       "<div>\n",
       "<style scoped>\n",
       "    .dataframe tbody tr th:only-of-type {\n",
       "        vertical-align: middle;\n",
       "    }\n",
       "\n",
       "    .dataframe tbody tr th {\n",
       "        vertical-align: top;\n",
       "    }\n",
       "\n",
       "    .dataframe thead th {\n",
       "        text-align: right;\n",
       "    }\n",
       "</style>\n",
       "<table border=\"1\" class=\"dataframe\">\n",
       "  <thead>\n",
       "    <tr style=\"text-align: right;\">\n",
       "      <th></th>\n",
       "      <th>price_rupiah</th>\n",
       "      <th>diameter</th>\n",
       "      <th>newcompany</th>\n",
       "      <th>newtopping</th>\n",
       "      <th>newvariant</th>\n",
       "      <th>newsize</th>\n",
       "      <th>newextra_sauce</th>\n",
       "      <th>newextra_cheese</th>\n",
       "      <th>newextra_mushrooms</th>\n",
       "    </tr>\n",
       "  </thead>\n",
       "  <tbody>\n",
       "    <tr>\n",
       "      <th>2</th>\n",
       "      <td>120000</td>\n",
       "      <td>16.0</td>\n",
       "      <td>0</td>\n",
       "      <td>5</td>\n",
       "      <td>8</td>\n",
       "      <td>4</td>\n",
       "      <td>1</td>\n",
       "      <td>1</td>\n",
       "      <td>1</td>\n",
       "    </tr>\n",
       "    <tr>\n",
       "      <th>3</th>\n",
       "      <td>155000</td>\n",
       "      <td>14.0</td>\n",
       "      <td>0</td>\n",
       "      <td>9</td>\n",
       "      <td>8</td>\n",
       "      <td>4</td>\n",
       "      <td>1</td>\n",
       "      <td>0</td>\n",
       "      <td>1</td>\n",
       "    </tr>\n",
       "    <tr>\n",
       "      <th>5</th>\n",
       "      <td>140000</td>\n",
       "      <td>18.5</td>\n",
       "      <td>0</td>\n",
       "      <td>1</td>\n",
       "      <td>3</td>\n",
       "      <td>1</td>\n",
       "      <td>0</td>\n",
       "      <td>0</td>\n",
       "      <td>1</td>\n",
       "    </tr>\n",
       "    <tr>\n",
       "      <th>6</th>\n",
       "      <td>110000</td>\n",
       "      <td>16.0</td>\n",
       "      <td>0</td>\n",
       "      <td>9</td>\n",
       "      <td>3</td>\n",
       "      <td>1</td>\n",
       "      <td>0</td>\n",
       "      <td>1</td>\n",
       "      <td>1</td>\n",
       "    </tr>\n",
       "    <tr>\n",
       "      <th>7</th>\n",
       "      <td>70000</td>\n",
       "      <td>8.0</td>\n",
       "      <td>0</td>\n",
       "      <td>7</td>\n",
       "      <td>3</td>\n",
       "      <td>4</td>\n",
       "      <td>0</td>\n",
       "      <td>0</td>\n",
       "      <td>1</td>\n",
       "    </tr>\n",
       "    <tr>\n",
       "      <th>...</th>\n",
       "      <td>...</td>\n",
       "      <td>...</td>\n",
       "      <td>...</td>\n",
       "      <td>...</td>\n",
       "      <td>...</td>\n",
       "      <td>...</td>\n",
       "      <td>...</td>\n",
       "      <td>...</td>\n",
       "      <td>...</td>\n",
       "    </tr>\n",
       "    <tr>\n",
       "      <th>124</th>\n",
       "      <td>39000</td>\n",
       "      <td>8.5</td>\n",
       "      <td>4</td>\n",
       "      <td>10</td>\n",
       "      <td>16</td>\n",
       "      <td>5</td>\n",
       "      <td>1</td>\n",
       "      <td>1</td>\n",
       "      <td>1</td>\n",
       "    </tr>\n",
       "    <tr>\n",
       "      <th>125</th>\n",
       "      <td>72000</td>\n",
       "      <td>12.0</td>\n",
       "      <td>4</td>\n",
       "      <td>10</td>\n",
       "      <td>16</td>\n",
       "      <td>3</td>\n",
       "      <td>1</td>\n",
       "      <td>1</td>\n",
       "      <td>1</td>\n",
       "    </tr>\n",
       "    <tr>\n",
       "      <th>126</th>\n",
       "      <td>99000</td>\n",
       "      <td>14.0</td>\n",
       "      <td>4</td>\n",
       "      <td>10</td>\n",
       "      <td>16</td>\n",
       "      <td>2</td>\n",
       "      <td>1</td>\n",
       "      <td>1</td>\n",
       "      <td>1</td>\n",
       "    </tr>\n",
       "    <tr>\n",
       "      <th>127</th>\n",
       "      <td>44000</td>\n",
       "      <td>8.5</td>\n",
       "      <td>4</td>\n",
       "      <td>3</td>\n",
       "      <td>0</td>\n",
       "      <td>5</td>\n",
       "      <td>1</td>\n",
       "      <td>0</td>\n",
       "      <td>1</td>\n",
       "    </tr>\n",
       "    <tr>\n",
       "      <th>128</th>\n",
       "      <td>78000</td>\n",
       "      <td>12.0</td>\n",
       "      <td>4</td>\n",
       "      <td>3</td>\n",
       "      <td>0</td>\n",
       "      <td>3</td>\n",
       "      <td>0</td>\n",
       "      <td>0</td>\n",
       "      <td>1</td>\n",
       "    </tr>\n",
       "  </tbody>\n",
       "</table>\n",
       "<p>122 rows × 9 columns</p>\n",
       "</div>"
      ],
      "text/plain": [
       "     price_rupiah  diameter  newcompany  newtopping  newvariant  newsize  \\\n",
       "2          120000      16.0           0           5           8        4   \n",
       "3          155000      14.0           0           9           8        4   \n",
       "5          140000      18.5           0           1           3        1   \n",
       "6          110000      16.0           0           9           3        1   \n",
       "7           70000       8.0           0           7           3        4   \n",
       "..            ...       ...         ...         ...         ...      ...   \n",
       "124         39000       8.5           4          10          16        5   \n",
       "125         72000      12.0           4          10          16        3   \n",
       "126         99000      14.0           4          10          16        2   \n",
       "127         44000       8.5           4           3           0        5   \n",
       "128         78000      12.0           4           3           0        3   \n",
       "\n",
       "     newextra_sauce  newextra_cheese  newextra_mushrooms  \n",
       "2                 1                1                   1  \n",
       "3                 1                0                   1  \n",
       "5                 0                0                   1  \n",
       "6                 0                1                   1  \n",
       "7                 0                0                   1  \n",
       "..              ...              ...                 ...  \n",
       "124               1                1                   1  \n",
       "125               1                1                   1  \n",
       "126               1                1                   1  \n",
       "127               1                0                   1  \n",
       "128               0                0                   1  \n",
       "\n",
       "[122 rows x 9 columns]"
      ]
     },
     "execution_count": 27,
     "metadata": {},
     "output_type": "execute_result"
    }
   ],
   "source": [
    "df"
   ]
  },
  {
   "cell_type": "code",
   "execution_count": 28,
   "id": "732f100a",
   "metadata": {},
   "outputs": [
    {
     "data": {
      "image/png": "[encoded data removed]",
      "text/plain": [
       "<Figure size 640x480 with 2 Axes>"
      ]
     },
     "metadata": {},
     "output_type": "display_data"
    }
   ],
   "source": [
    "cor = df.corr()\n",
    "sns.heatmap(cor,annot = True)\n",
    "plt.show()"
   ]
  },
  {
   "cell_type": "code",
   "execution_count": 29,
   "id": "cafca83c",
   "metadata": {},
   "outputs": [
    {
     "data": {
      "text/plain": [
       "array([[16. ,  0. ,  5. ,  8. ,  4. ,  1. ,  1. ,  1. ],\n",
       "       [14. ,  0. ,  9. ,  8. ,  4. ,  1. ,  0. ,  1. ],\n",
       "       [18.5,  0. ,  1. ,  3. ,  1. ,  0. ,  0. ,  1. ],\n",
       "       [16. ,  0. ,  9. ,  3. ,  1. ,  0. ,  1. ,  1. ],\n",
       "       [ 8. ,  0. ,  7. ,  3. ,  4. ,  0. ,  0. ,  1. ],\n",
       "       [12. ,  0. ,  5. ,  3. ,  4. ,  1. ,  0. ,  1. ],\n",
       "       [12. ,  0. ,  9. ,  3. ,  4. ,  0. ,  0. ,  0. ],\n",
       "       [18.5,  0. ,  4. , 18. ,  1. ,  0. ,  0. ,  0. ],\n",
       "       [16. ,  0. ,  1. , 18. ,  1. ,  1. ,  1. ,  0. ],\n",
       "       [ 8. ,  0. ,  9. , 18. ,  4. ,  1. ,  1. ,  0. ],\n",
       "       [12. ,  0. ,  1. , 18. ,  4. ,  0. ,  1. ,  0. ],\n",
       "       [12. ,  0. ,  4. , 18. ,  4. ,  0. ,  1. ,  0. ],\n",
       "       [18.5,  0. ,  4. , 13. ,  1. ,  0. ,  1. ,  1. ],\n",
       "       [16. ,  0. ,  9. , 13. ,  1. ,  0. ,  1. ,  1. ],\n",
       "       [ 8. ,  0. ,  2. , 13. ,  4. ,  1. ,  1. ,  1. ],\n",
       "       [12. ,  0. ,  5. , 13. ,  4. ,  1. ,  1. ,  1. ],\n",
       "       [12. ,  0. ,  4. , 13. ,  4. ,  1. ,  1. ,  1. ],\n",
       "       [18.5,  0. ,  5. ,  7. ,  1. ,  1. ,  1. ,  1. ],\n",
       "       [14. ,  0. ,  2. ,  7. ,  4. ,  1. ,  1. ,  1. ],\n",
       "       [16.5,  0. ,  9. ,  7. ,  4. ,  1. ,  0. ,  0. ],\n",
       "       [16.5,  0. ,  2. ,  7. ,  4. ,  1. ,  0. ,  0. ],\n",
       "       [ 8.5,  1. ,  4. ,  4. ,  5. ,  1. ,  0. ,  0. ],\n",
       "       [12. ,  1. ,  2. ,  4. ,  3. ,  1. ,  0. ,  0. ],\n",
       "       [14. ,  1. ,  9. ,  4. ,  2. ,  1. ,  0. ,  1. ],\n",
       "       [12. ,  1. ,  4. ,  5. ,  3. ,  0. ,  0. ,  1. ],\n",
       "       [17. ,  1. ,  2. , 15. ,  0. ,  0. ,  1. ,  1. ],\n",
       "       [12. ,  1. ,  2. ,  6. ,  3. ,  0. ,  1. ,  1. ],\n",
       "       [ 8.5,  1. ,  5. ,  4. ,  5. ,  1. ,  1. ,  1. ],\n",
       "       [12. ,  1. ,  2. ,  4. ,  3. ,  0. ,  1. ,  1. ],\n",
       "       [14. ,  1. ,  5. ,  4. ,  2. ,  0. ,  1. ,  1. ],\n",
       "       [12. ,  1. ,  5. ,  5. ,  3. ,  0. ,  1. ,  1. ],\n",
       "       [17. ,  1. ,  4. , 15. ,  0. ,  0. ,  1. ,  1. ],\n",
       "       [12. ,  1. ,  9. ,  6. ,  3. ,  1. ,  1. ,  1. ],\n",
       "       [ 8.5,  1. ,  2. ,  4. ,  5. ,  0. ,  1. ,  1. ],\n",
       "       [12. ,  1. ,  4. ,  4. ,  3. ,  1. ,  1. ,  1. ],\n",
       "       [14. ,  1. ,  2. ,  4. ,  2. ,  1. ,  1. ,  0. ],\n",
       "       [12. ,  1. ,  2. ,  5. ,  3. ,  0. ,  0. ,  0. ],\n",
       "       [17. ,  1. ,  5. , 15. ,  0. ,  1. ,  0. ,  0. ],\n",
       "       [12. ,  1. ,  9. ,  6. ,  3. ,  1. ,  0. ,  0. ],\n",
       "       [ 8.5,  1. ,  9. ,  4. ,  5. ,  1. ,  1. ,  0. ],\n",
       "       [12. ,  1. ,  5. ,  4. ,  3. ,  1. ,  1. ,  0. ],\n",
       "       [14. ,  1. ,  4. ,  4. ,  2. ,  1. ,  1. ,  0. ],\n",
       "       [12. ,  1. ,  9. ,  5. ,  3. ,  0. ,  1. ,  0. ],\n",
       "       [17. ,  1. ,  2. , 15. ,  0. ,  0. ,  1. ,  0. ],\n",
       "       [12. ,  1. ,  5. ,  6. ,  3. ,  0. ,  1. ,  0. ],\n",
       "       [ 8.5,  2. , 10. , 17. ,  5. ,  1. ,  1. ,  1. ],\n",
       "       [12. ,  2. , 10. , 17. ,  3. ,  1. ,  1. ,  1. ],\n",
       "       [14. ,  2. , 10. , 17. ,  2. ,  1. ,  1. ,  1. ],\n",
       "       [ 8.5,  2. ,  3. ,  0. ,  5. ,  1. ,  0. ,  1. ],\n",
       "       [12. ,  2. ,  3. ,  0. ,  3. ,  0. ,  0. ,  0. ],\n",
       "       [14. ,  2. ,  3. ,  0. ,  2. ,  1. ,  0. ,  1. ],\n",
       "       [ 8.5,  2. ,  8. ,  1. ,  5. ,  0. ,  1. ,  1. ],\n",
       "       [12. ,  2. ,  8. ,  1. ,  3. ,  1. ,  1. ,  0. ],\n",
       "       [14. ,  2. ,  8. ,  1. ,  2. ,  0. ,  1. ,  0. ],\n",
       "       [ 8.5,  2. ,  5. ,  9. ,  5. ,  1. ,  1. ,  0. ],\n",
       "       [12. ,  2. ,  6. ,  9. ,  3. ,  1. ,  1. ,  0. ],\n",
       "       [14. ,  2. ,  4. ,  9. ,  2. ,  1. ,  1. ,  1. ],\n",
       "       [ 8.5,  2. ,  3. , 12. ,  5. ,  1. ,  1. ,  1. ],\n",
       "       [12. ,  2. ,  3. , 12. ,  3. ,  1. ,  1. ,  1. ],\n",
       "       [14. ,  2. ,  3. , 12. ,  2. ,  1. ,  1. ,  0. ],\n",
       "       [ 8.5,  2. , 11. , 10. ,  5. ,  0. ,  0. ,  0. ],\n",
       "       [12. ,  2. , 11. , 10. ,  3. ,  0. ,  0. ,  0. ],\n",
       "       [14. ,  2. , 11. , 10. ,  2. ,  0. ,  0. ,  0. ],\n",
       "       [ 8.5,  2. , 11. , 11. ,  5. ,  0. ,  1. ,  0. ],\n",
       "       [12. ,  2. , 11. , 11. ,  3. ,  0. ,  1. ,  0. ],\n",
       "       [14. ,  2. , 11. , 11. ,  2. ,  1. ,  1. ,  0. ],\n",
       "       [ 8.5,  2. , 11. , 19. ,  5. ,  0. ,  1. ,  1. ],\n",
       "       [12. ,  2. , 11. , 19. ,  3. ,  1. ,  0. ,  1. ],\n",
       "       [14. ,  2. , 11. , 19. ,  2. ,  0. ,  0. ,  1. ],\n",
       "       [ 8.5,  2. ,  0. ,  2. ,  5. ,  1. ,  0. ,  1. ],\n",
       "       [12. ,  2. ,  0. ,  2. ,  3. ,  1. ,  0. ,  1. ],\n",
       "       [14. ,  2. ,  0. ,  2. ,  2. ,  1. ,  0. ,  1. ],\n",
       "       [ 8.5,  2. , 10. , 14. ,  5. ,  1. ,  0. ,  1. ],\n",
       "       [12. ,  2. , 10. , 14. ,  3. ,  1. ,  1. ,  0. ],\n",
       "       [14. ,  2. , 10. , 14. ,  2. ,  1. ,  1. ,  0. ],\n",
       "       [18.5,  3. ,  4. , 13. ,  1. ,  0. ,  1. ,  0. ],\n",
       "       [16. ,  3. ,  9. , 13. ,  1. ,  0. ,  1. ,  0. ],\n",
       "       [ 8. ,  3. ,  2. , 13. ,  4. ,  1. ,  1. ,  0. ],\n",
       "       [12. ,  3. ,  5. , 13. ,  4. ,  1. ,  1. ,  0. ],\n",
       "       [12. ,  3. ,  4. , 13. ,  4. ,  1. ,  1. ,  0. ],\n",
       "       [18.5,  3. ,  5. ,  7. ,  1. ,  1. ,  1. ,  1. ],\n",
       "       [14. ,  3. ,  2. ,  7. ,  4. ,  1. ,  1. ,  1. ],\n",
       "       [16.5,  3. ,  9. ,  7. ,  4. ,  1. ,  0. ,  1. ],\n",
       "       [16.5,  3. ,  2. ,  7. ,  4. ,  1. ,  0. ,  1. ],\n",
       "       [ 8.5,  3. ,  4. ,  4. ,  5. ,  1. ,  0. ,  1. ],\n",
       "       [12. ,  3. ,  2. ,  4. ,  3. ,  1. ,  0. ,  1. ],\n",
       "       [14. ,  3. ,  9. ,  4. ,  2. ,  1. ,  0. ,  1. ],\n",
       "       [12. ,  3. ,  4. ,  5. ,  3. ,  0. ,  0. ,  1. ],\n",
       "       [17. ,  3. ,  2. , 15. ,  0. ,  0. ,  1. ,  1. ],\n",
       "       [12. ,  3. ,  2. ,  6. ,  3. ,  0. ,  1. ,  0. ],\n",
       "       [ 8.5,  3. ,  5. ,  4. ,  5. ,  1. ,  1. ,  0. ],\n",
       "       [12. ,  3. ,  2. ,  4. ,  3. ,  0. ,  1. ,  0. ],\n",
       "       [14. ,  3. ,  5. ,  4. ,  2. ,  0. ,  1. ,  0. ],\n",
       "       [12. ,  3. ,  5. ,  5. ,  3. ,  0. ,  1. ,  1. ],\n",
       "       [17. ,  4. ,  4. , 15. ,  0. ,  0. ,  1. ,  1. ],\n",
       "       [ 8.5,  4. ,  4. ,  4. ,  5. ,  1. ,  0. ,  1. ],\n",
       "       [12. ,  4. ,  2. ,  4. ,  3. ,  1. ,  0. ,  1. ],\n",
       "       [14. ,  4. ,  9. ,  4. ,  2. ,  1. ,  0. ,  0. ],\n",
       "       [12. ,  4. ,  4. ,  5. ,  3. ,  0. ,  0. ,  0. ],\n",
       "       [17. ,  4. ,  2. , 15. ,  0. ,  0. ,  1. ,  0. ],\n",
       "       [12. ,  4. ,  2. ,  6. ,  3. ,  0. ,  1. ,  0. ],\n",
       "       [ 8.5,  4. ,  5. ,  4. ,  5. ,  1. ,  1. ,  0. ],\n",
       "       [12. ,  4. ,  2. ,  4. ,  3. ,  0. ,  1. ,  1. ],\n",
       "       [14. ,  4. ,  5. ,  4. ,  2. ,  0. ,  1. ,  1. ],\n",
       "       [12. ,  4. ,  5. ,  5. ,  3. ,  0. ,  1. ,  1. ],\n",
       "       [12. ,  4. ,  9. ,  6. ,  3. ,  1. ,  1. ,  1. ],\n",
       "       [ 8.5,  4. ,  2. ,  4. ,  5. ,  0. ,  1. ,  1. ],\n",
       "       [12. ,  4. ,  4. ,  4. ,  3. ,  1. ,  1. ,  1. ],\n",
       "       [14. ,  4. ,  2. ,  4. ,  2. ,  1. ,  1. ,  1. ],\n",
       "       [12. ,  4. ,  2. ,  5. ,  3. ,  0. ,  0. ,  1. ],\n",
       "       [17. ,  4. ,  5. , 15. ,  0. ,  1. ,  0. ,  0. ],\n",
       "       [12. ,  4. ,  9. ,  6. ,  3. ,  1. ,  0. ,  0. ],\n",
       "       [ 8.5,  4. ,  9. ,  4. ,  5. ,  1. ,  1. ,  0. ],\n",
       "       [12. ,  4. ,  5. ,  4. ,  3. ,  1. ,  1. ,  0. ],\n",
       "       [14. ,  4. ,  4. ,  4. ,  2. ,  1. ,  1. ,  0. ],\n",
       "       [12. ,  4. ,  9. ,  5. ,  3. ,  0. ,  1. ,  0. ],\n",
       "       [12. ,  4. ,  5. ,  6. ,  3. ,  0. ,  1. ,  1. ],\n",
       "       [ 8.5,  4. , 10. , 16. ,  5. ,  1. ,  1. ,  1. ],\n",
       "       [12. ,  4. , 10. , 16. ,  3. ,  1. ,  1. ,  1. ],\n",
       "       [14. ,  4. , 10. , 16. ,  2. ,  1. ,  1. ,  1. ],\n",
       "       [ 8.5,  4. ,  3. ,  0. ,  5. ,  1. ,  0. ,  1. ],\n",
       "       [12. ,  4. ,  3. ,  0. ,  3. ,  0. ,  0. ,  1. ]])"
      ]
     },
     "execution_count": 29,
     "metadata": {},
     "output_type": "execute_result"
    }
   ],
   "source": [
    "x = df.drop('price_rupiah',axis = 1).values\n",
    "x"
   ]
  },
  {
   "cell_type": "code",
   "execution_count": 30,
   "id": "ab566f26",
   "metadata": {},
   "outputs": [
    {
     "data": {
      "text/plain": [
       "array([120000, 155000, 140000, 110000,  70000,  90000,  90000, 140000,\n",
       "       110000,  70000,  90000,  90000, 140000, 110000,  70000,  90000,\n",
       "        90000, 188000, 114000, 149000, 149000,  23500,  46000,  72000,\n",
       "        49000,  83000,  96000,  31000,  69000,  93000,  75000, 115000,\n",
       "       123000,  33000,  46000,  72000,  76000, 119000, 126500,  75000,\n",
       "        46000,  72000,  49000,  83000,  96000,  39000,  72000,  99000,\n",
       "        44000,  78000, 105000,  39000,  72000,  99000,  35000,  60000,\n",
       "        98000,  35000,  60000,  98000,  44000,  78000, 105000,  28000,\n",
       "        51000,  84000,  39000,  72000,  99000,  35000,  60000,  98000,\n",
       "        32000,  54000,  92000, 140000, 110000,  70000,  90000,  90000,\n",
       "       188000, 114000, 149000, 149000,  23500,  46000,  72000,  49000,\n",
       "        83000,  96000,  31000,  69000,  93000,  75000, 115000,  23500,\n",
       "        46000,  72000,  49000,  83000,  96000,  31000,  69000,  93000,\n",
       "        75000, 123000,  33000,  46000,  72000,  76000, 119000, 126500,\n",
       "        75000,  46000,  72000,  49000,  96000,  39000,  72000,  99000,\n",
       "        44000,  78000])"
      ]
     },
     "execution_count": 30,
     "metadata": {},
     "output_type": "execute_result"
    }
   ],
   "source": [
    "y = df['price_rupiah'].values\n",
    "y"
   ]
  },
  {
   "cell_type": "code",
   "execution_count": 31,
   "id": "6070b640",
   "metadata": {},
   "outputs": [],
   "source": [
    "from sklearn.model_selection import train_test_split"
   ]
  },
  {
   "cell_type": "code",
   "execution_count": 32,
   "id": "e0db7f17",
   "metadata": {},
   "outputs": [],
   "source": [
    "x_train,x_test,y_train,y_test = train_test_split(x,y,test_size = 0.2,random_state = 0)"
   ]
  },
  {
   "cell_type": "code",
   "execution_count": 33,
   "id": "14b13d0a",
   "metadata": {},
   "outputs": [],
   "source": [
    "from sklearn.ensemble import RandomForestRegressor"
   ]
  },
  {
   "cell_type": "code",
   "execution_count": 34,
   "id": "4175c003",
   "metadata": {},
   "outputs": [],
   "source": [
    "model = RandomForestRegressor(n_estimators=100)"
   ]
  },
  {
   "cell_type": "code",
   "execution_count": 35,
   "id": "68a49f41",
   "metadata": {},
   "outputs": [
    {
     "data": {
      "text/plain": [
       "RandomForestRegressor()"
      ]
     },
     "execution_count": 35,
     "metadata": {},
     "output_type": "execute_result"
    }
   ],
   "source": [
    "model.fit(x_train,y_train)"
   ]
  },
  {
   "cell_type": "code",
   "execution_count": 36,
   "id": "9ecd902a",
   "metadata": {},
   "outputs": [
    {
     "data": {
      "text/plain": [
       "array([ 33955.,  82860.,  84310.,  87490.,  91670.,  35950.,  57420.,\n",
       "       139650.,  63510.,  40095.,  86840.,  63915.,  32525.,  32760.,\n",
       "       152020.,  82430.,  86280.,  59095.,  69275.,  68365.,  37990.,\n",
       "        51195.,  35835.,  86040.,  53195.])"
      ]
     },
     "execution_count": 36,
     "metadata": {},
     "output_type": "execute_result"
    }
   ],
   "source": [
    "y_pre = model.predict(x_test)\n",
    "y_pre"
   ]
  },
  {
   "cell_type": "code",
   "execution_count": 37,
   "id": "66c56691",
   "metadata": {},
   "outputs": [
    {
     "data": {
      "text/plain": [
       "array([ 23500,  72000,  90000,  98000, 110000,  39000,  46000, 140000,\n",
       "        78000,  31000,  72000,  76000,  33000,  39000, 140000,  90000,\n",
       "        83000,  49000,  78000,  75000,  23500,  31000,  44000,  90000,\n",
       "        46000])"
      ]
     },
     "execution_count": 37,
     "metadata": {},
     "output_type": "execute_result"
    }
   ],
   "source": [
    "y_test"
   ]
  },
  {
   "cell_type": "code",
   "execution_count": 38,
   "id": "d356fdc4",
   "metadata": {},
   "outputs": [
    {
     "data": {
      "text/plain": [
       "0.8972093638265722"
      ]
     },
     "execution_count": 38,
     "metadata": {},
     "output_type": "execute_result"
    }
   ],
   "source": [
    "model.score(x_test,y_test)"
   ]
  },
  {
   "cell_type": "code",
   "execution_count": null,
   "id": "3437c8b3",
   "metadata": {},
   "outputs": [],
   "source": []
  }
 ],
 "metadata": {
  "kernelspec": {
   "display_name": "Python 3 (ipykernel)",
   "language": "python",
   "name": "python3"
  },
  "language_info": {
   "codemirror_mode": {
    "name": "ipython",
    "version": 3
   },
   "file_extension": ".py",
   "mimetype": "text/x-python",
   "name": "python",
   "nbconvert_exporter": "python",
   "pygments_lexer": "ipython3",
   "version": "3.9.13"
  }
 },
 "nbformat": 4,
 "nbformat_minor": 5
}
