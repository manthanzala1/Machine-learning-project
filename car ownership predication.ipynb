{
 "cells": [
  {
   "cell_type": "code",
   "execution_count": 1,
   "id": "4e93b437",
   "metadata": {},
   "outputs": [],
   "source": [
    "import pandas as pd\n",
    "import numpy as np\n",
    "import seaborn as sns\n",
    "import matplotlib.pyplot as plt"
   ]
  },
  {
   "cell_type": "code",
   "execution_count": 2,
   "id": "2246db65",
   "metadata": {},
   "outputs": [
    {
     "data": {
      "text/html": [
       "<div>\n",
       "<style scoped>\n",
       "    .dataframe tbody tr th:only-of-type {\n",
       "        vertical-align: middle;\n",
       "    }\n",
       "\n",
       "    .dataframe tbody tr th {\n",
       "        vertical-align: top;\n",
       "    }\n",
       "\n",
       "    .dataframe thead th {\n",
       "        text-align: right;\n",
       "    }\n",
       "</style>\n",
       "<table border=\"1\" class=\"dataframe\">\n",
       "  <thead>\n",
       "    <tr style=\"text-align: right;\">\n",
       "      <th></th>\n",
       "      <th>Occupation</th>\n",
       "      <th>Monthly Income</th>\n",
       "      <th>Credit Score</th>\n",
       "      <th>Years of Employment</th>\n",
       "      <th>Finance Status</th>\n",
       "      <th>Finance History</th>\n",
       "      <th>Car</th>\n",
       "      <th>Number of Children</th>\n",
       "    </tr>\n",
       "  </thead>\n",
       "  <tbody>\n",
       "    <tr>\n",
       "      <th>0</th>\n",
       "      <td>Teacher</td>\n",
       "      <td>40000</td>\n",
       "      <td>750.0</td>\n",
       "      <td>10</td>\n",
       "      <td>Good</td>\n",
       "      <td>No issues</td>\n",
       "      <td>Yes</td>\n",
       "      <td>2</td>\n",
       "    </tr>\n",
       "    <tr>\n",
       "      <th>1</th>\n",
       "      <td>Engineer</td>\n",
       "      <td>60000</td>\n",
       "      <td>800.0</td>\n",
       "      <td>8</td>\n",
       "      <td>Good</td>\n",
       "      <td>No issues</td>\n",
       "      <td>Yes</td>\n",
       "      <td>1</td>\n",
       "    </tr>\n",
       "    <tr>\n",
       "      <th>2</th>\n",
       "      <td>Nurse</td>\n",
       "      <td>25000</td>\n",
       "      <td>650.0</td>\n",
       "      <td>5</td>\n",
       "      <td>Fair</td>\n",
       "      <td>Late payment 2 months ago</td>\n",
       "      <td>No</td>\n",
       "      <td>0</td>\n",
       "    </tr>\n",
       "    <tr>\n",
       "      <th>3</th>\n",
       "      <td>Doctor</td>\n",
       "      <td>80000</td>\n",
       "      <td>900.0</td>\n",
       "      <td>12</td>\n",
       "      <td>Excellent</td>\n",
       "      <td>No issues</td>\n",
       "      <td>Yes</td>\n",
       "      <td>3</td>\n",
       "    </tr>\n",
       "    <tr>\n",
       "      <th>4</th>\n",
       "      <td>Businessman</td>\n",
       "      <td>100000</td>\n",
       "      <td>700.0</td>\n",
       "      <td>15</td>\n",
       "      <td>Good</td>\n",
       "      <td>Late payment 6 months ago</td>\n",
       "      <td>Yes</td>\n",
       "      <td>2</td>\n",
       "    </tr>\n",
       "    <tr>\n",
       "      <th>...</th>\n",
       "      <td>...</td>\n",
       "      <td>...</td>\n",
       "      <td>...</td>\n",
       "      <td>...</td>\n",
       "      <td>...</td>\n",
       "      <td>...</td>\n",
       "      <td>...</td>\n",
       "      <td>...</td>\n",
       "    </tr>\n",
       "    <tr>\n",
       "      <th>495</th>\n",
       "      <td>Project Manager</td>\n",
       "      <td>$7,000</td>\n",
       "      <td>730.0</td>\n",
       "      <td>5 years</td>\n",
       "      <td>Stable</td>\n",
       "      <td>No significant issues</td>\n",
       "      <td>Yes</td>\n",
       "      <td>0</td>\n",
       "    </tr>\n",
       "    <tr>\n",
       "      <th>496</th>\n",
       "      <td>Chef</td>\n",
       "      <td>$4,500</td>\n",
       "      <td>680.0</td>\n",
       "      <td>4 years</td>\n",
       "      <td>Stable</td>\n",
       "      <td>No significant issues</td>\n",
       "      <td>Yes</td>\n",
       "      <td>0</td>\n",
       "    </tr>\n",
       "    <tr>\n",
       "      <th>497</th>\n",
       "      <td>Interior Designer</td>\n",
       "      <td>$5,500</td>\n",
       "      <td>690.0</td>\n",
       "      <td>4 years</td>\n",
       "      <td>Stable</td>\n",
       "      <td>No significant issues</td>\n",
       "      <td>Yes</td>\n",
       "      <td>1</td>\n",
       "    </tr>\n",
       "    <tr>\n",
       "      <th>498</th>\n",
       "      <td>Medical Assistant</td>\n",
       "      <td>$3,500</td>\n",
       "      <td>640.0</td>\n",
       "      <td>3 years</td>\n",
       "      <td>Stable</td>\n",
       "      <td>No significant issues</td>\n",
       "      <td>No</td>\n",
       "      <td>1</td>\n",
       "    </tr>\n",
       "    <tr>\n",
       "      <th>499</th>\n",
       "      <td>Customer Service Rep</td>\n",
       "      <td>$3,200</td>\n",
       "      <td>641.0</td>\n",
       "      <td>4 years</td>\n",
       "      <td>Stable</td>\n",
       "      <td>No significant issues</td>\n",
       "      <td>No</td>\n",
       "      <td>2</td>\n",
       "    </tr>\n",
       "  </tbody>\n",
       "</table>\n",
       "<p>500 rows × 8 columns</p>\n",
       "</div>"
      ],
      "text/plain": [
       "               Occupation Monthly Income  Credit Score Years of Employment  \\\n",
       "0                 Teacher          40000         750.0                  10   \n",
       "1                Engineer          60000         800.0                   8   \n",
       "2                   Nurse          25000         650.0                   5   \n",
       "3                  Doctor          80000         900.0                  12   \n",
       "4             Businessman         100000         700.0                  15   \n",
       "..                    ...            ...           ...                 ...   \n",
       "495       Project Manager        $7,000          730.0             5 years   \n",
       "496                  Chef        $4,500          680.0             4 years   \n",
       "497     Interior Designer        $5,500          690.0             4 years   \n",
       "498     Medical Assistant        $3,500          640.0             3 years   \n",
       "499  Customer Service Rep        $3,200          641.0             4 years   \n",
       "\n",
       "    Finance Status            Finance History  Car Number of Children  \n",
       "0             Good                  No issues  Yes                  2  \n",
       "1             Good                  No issues  Yes                  1  \n",
       "2             Fair  Late payment 2 months ago   No                  0  \n",
       "3        Excellent                  No issues  Yes                  3  \n",
       "4             Good  Late payment 6 months ago  Yes                  2  \n",
       "..             ...                        ...  ...                ...  \n",
       "495         Stable      No significant issues  Yes                  0  \n",
       "496         Stable      No significant issues  Yes                  0  \n",
       "497         Stable      No significant issues  Yes                  1  \n",
       "498         Stable      No significant issues   No                  1  \n",
       "499         Stable      No significant issues   No                  2  \n",
       "\n",
       "[500 rows x 8 columns]"
      ]
     },
     "execution_count": 2,
     "metadata": {},
     "output_type": "execute_result"
    }
   ],
   "source": [
    "df = pd.read_csv(r\"C:\\Users\\manth\\Downloads\\Car Ownership.csv\")\n",
    "df"
   ]
  },
  {
   "cell_type": "code",
   "execution_count": 3,
   "id": "d10e47a6",
   "metadata": {},
   "outputs": [
    {
     "data": {
      "text/plain": [
       "(500, 8)"
      ]
     },
     "execution_count": 3,
     "metadata": {},
     "output_type": "execute_result"
    }
   ],
   "source": [
    "# check the number of rows and columns\n",
    "df.shape"
   ]
  },
  {
   "cell_type": "code",
   "execution_count": 4,
   "id": "78c55cd9",
   "metadata": {},
   "outputs": [
    {
     "name": "stdout",
     "output_type": "stream",
     "text": [
      "<class 'pandas.core.frame.DataFrame'>\n",
      "RangeIndex: 500 entries, 0 to 499\n",
      "Data columns (total 8 columns):\n",
      " #   Column               Non-Null Count  Dtype  \n",
      "---  ------               --------------  -----  \n",
      " 0   Occupation           490 non-null    object \n",
      " 1   Monthly Income       487 non-null    object \n",
      " 2   Credit Score         460 non-null    float64\n",
      " 3   Years of Employment  457 non-null    object \n",
      " 4   Finance Status       477 non-null    object \n",
      " 5   Finance History      472 non-null    object \n",
      " 6   Car                  480 non-null    object \n",
      " 7   Number of Children   375 non-null    object \n",
      "dtypes: float64(1), object(7)\n",
      "memory usage: 31.4+ KB\n"
     ]
    }
   ],
   "source": [
    "# check the data types\n",
    "df.info()"
   ]
  },
  {
   "cell_type": "code",
   "execution_count": 5,
   "id": "06a200d1",
   "metadata": {},
   "outputs": [
    {
     "data": {
      "text/html": [
       "<div>\n",
       "<style scoped>\n",
       "    .dataframe tbody tr th:only-of-type {\n",
       "        vertical-align: middle;\n",
       "    }\n",
       "\n",
       "    .dataframe tbody tr th {\n",
       "        vertical-align: top;\n",
       "    }\n",
       "\n",
       "    .dataframe thead th {\n",
       "        text-align: right;\n",
       "    }\n",
       "</style>\n",
       "<table border=\"1\" class=\"dataframe\">\n",
       "  <thead>\n",
       "    <tr style=\"text-align: right;\">\n",
       "      <th></th>\n",
       "      <th>Credit Score</th>\n",
       "    </tr>\n",
       "  </thead>\n",
       "  <tbody>\n",
       "    <tr>\n",
       "      <th>count</th>\n",
       "      <td>460.000000</td>\n",
       "    </tr>\n",
       "    <tr>\n",
       "      <th>mean</th>\n",
       "      <td>702.969565</td>\n",
       "    </tr>\n",
       "    <tr>\n",
       "      <th>std</th>\n",
       "      <td>69.232323</td>\n",
       "    </tr>\n",
       "    <tr>\n",
       "      <th>min</th>\n",
       "      <td>500.000000</td>\n",
       "    </tr>\n",
       "    <tr>\n",
       "      <th>25%</th>\n",
       "      <td>650.000000</td>\n",
       "    </tr>\n",
       "    <tr>\n",
       "      <th>50%</th>\n",
       "      <td>700.000000</td>\n",
       "    </tr>\n",
       "    <tr>\n",
       "      <th>75%</th>\n",
       "      <td>750.000000</td>\n",
       "    </tr>\n",
       "    <tr>\n",
       "      <th>max</th>\n",
       "      <td>900.000000</td>\n",
       "    </tr>\n",
       "  </tbody>\n",
       "</table>\n",
       "</div>"
      ],
      "text/plain": [
       "       Credit Score\n",
       "count    460.000000\n",
       "mean     702.969565\n",
       "std       69.232323\n",
       "min      500.000000\n",
       "25%      650.000000\n",
       "50%      700.000000\n",
       "75%      750.000000\n",
       "max      900.000000"
      ]
     },
     "execution_count": 5,
     "metadata": {},
     "output_type": "execute_result"
    }
   ],
   "source": [
    "# check the statistical analysis\n",
    "df.describe()"
   ]
  },
  {
   "cell_type": "code",
   "execution_count": 6,
   "id": "2d2d9799",
   "metadata": {},
   "outputs": [
    {
     "data": {
      "text/plain": [
       "Occupation              2.0\n",
       "Monthly Income          2.6\n",
       "Credit Score            8.0\n",
       "Years of Employment     8.6\n",
       "Finance Status          4.6\n",
       "Finance History         5.6\n",
       "Car                     4.0\n",
       "Number of Children     25.0\n",
       "dtype: float64"
      ]
     },
     "execution_count": 6,
     "metadata": {},
     "output_type": "execute_result"
    }
   ],
   "source": [
    "# check the null values\n",
    "df.isnull().sum()/df.shape[0]*100"
   ]
  },
  {
   "cell_type": "code",
   "execution_count": 7,
   "id": "7bc3aede",
   "metadata": {},
   "outputs": [],
   "source": [
    "# drop the missing values\n",
    "df.drop('Number of Children',axis = 1,inplace = True)"
   ]
  },
  {
   "cell_type": "code",
   "execution_count": 8,
   "id": "ba413b90",
   "metadata": {},
   "outputs": [],
   "source": [
    "df.dropna(inplace = True)"
   ]
  },
  {
   "cell_type": "code",
   "execution_count": 9,
   "id": "06341f60",
   "metadata": {},
   "outputs": [
    {
     "data": {
      "text/html": [
       "<div>\n",
       "<style scoped>\n",
       "    .dataframe tbody tr th:only-of-type {\n",
       "        vertical-align: middle;\n",
       "    }\n",
       "\n",
       "    .dataframe tbody tr th {\n",
       "        vertical-align: top;\n",
       "    }\n",
       "\n",
       "    .dataframe thead th {\n",
       "        text-align: right;\n",
       "    }\n",
       "</style>\n",
       "<table border=\"1\" class=\"dataframe\">\n",
       "  <thead>\n",
       "    <tr style=\"text-align: right;\">\n",
       "      <th></th>\n",
       "      <th>Occupation</th>\n",
       "      <th>Monthly Income</th>\n",
       "      <th>Credit Score</th>\n",
       "      <th>Years of Employment</th>\n",
       "      <th>Finance Status</th>\n",
       "      <th>Finance History</th>\n",
       "      <th>Car</th>\n",
       "    </tr>\n",
       "  </thead>\n",
       "  <tbody>\n",
       "    <tr>\n",
       "      <th>0</th>\n",
       "      <td>Teacher</td>\n",
       "      <td>40000</td>\n",
       "      <td>750.0</td>\n",
       "      <td>10</td>\n",
       "      <td>Good</td>\n",
       "      <td>No issues</td>\n",
       "      <td>Yes</td>\n",
       "    </tr>\n",
       "    <tr>\n",
       "      <th>1</th>\n",
       "      <td>Engineer</td>\n",
       "      <td>60000</td>\n",
       "      <td>800.0</td>\n",
       "      <td>8</td>\n",
       "      <td>Good</td>\n",
       "      <td>No issues</td>\n",
       "      <td>Yes</td>\n",
       "    </tr>\n",
       "    <tr>\n",
       "      <th>2</th>\n",
       "      <td>Nurse</td>\n",
       "      <td>25000</td>\n",
       "      <td>650.0</td>\n",
       "      <td>5</td>\n",
       "      <td>Fair</td>\n",
       "      <td>Late payment 2 months ago</td>\n",
       "      <td>No</td>\n",
       "    </tr>\n",
       "    <tr>\n",
       "      <th>3</th>\n",
       "      <td>Doctor</td>\n",
       "      <td>80000</td>\n",
       "      <td>900.0</td>\n",
       "      <td>12</td>\n",
       "      <td>Excellent</td>\n",
       "      <td>No issues</td>\n",
       "      <td>Yes</td>\n",
       "    </tr>\n",
       "    <tr>\n",
       "      <th>4</th>\n",
       "      <td>Businessman</td>\n",
       "      <td>100000</td>\n",
       "      <td>700.0</td>\n",
       "      <td>15</td>\n",
       "      <td>Good</td>\n",
       "      <td>Late payment 6 months ago</td>\n",
       "      <td>Yes</td>\n",
       "    </tr>\n",
       "    <tr>\n",
       "      <th>...</th>\n",
       "      <td>...</td>\n",
       "      <td>...</td>\n",
       "      <td>...</td>\n",
       "      <td>...</td>\n",
       "      <td>...</td>\n",
       "      <td>...</td>\n",
       "      <td>...</td>\n",
       "    </tr>\n",
       "    <tr>\n",
       "      <th>495</th>\n",
       "      <td>Project Manager</td>\n",
       "      <td>$7,000</td>\n",
       "      <td>730.0</td>\n",
       "      <td>5 years</td>\n",
       "      <td>Stable</td>\n",
       "      <td>No significant issues</td>\n",
       "      <td>Yes</td>\n",
       "    </tr>\n",
       "    <tr>\n",
       "      <th>496</th>\n",
       "      <td>Chef</td>\n",
       "      <td>$4,500</td>\n",
       "      <td>680.0</td>\n",
       "      <td>4 years</td>\n",
       "      <td>Stable</td>\n",
       "      <td>No significant issues</td>\n",
       "      <td>Yes</td>\n",
       "    </tr>\n",
       "    <tr>\n",
       "      <th>497</th>\n",
       "      <td>Interior Designer</td>\n",
       "      <td>$5,500</td>\n",
       "      <td>690.0</td>\n",
       "      <td>4 years</td>\n",
       "      <td>Stable</td>\n",
       "      <td>No significant issues</td>\n",
       "      <td>Yes</td>\n",
       "    </tr>\n",
       "    <tr>\n",
       "      <th>498</th>\n",
       "      <td>Medical Assistant</td>\n",
       "      <td>$3,500</td>\n",
       "      <td>640.0</td>\n",
       "      <td>3 years</td>\n",
       "      <td>Stable</td>\n",
       "      <td>No significant issues</td>\n",
       "      <td>No</td>\n",
       "    </tr>\n",
       "    <tr>\n",
       "      <th>499</th>\n",
       "      <td>Customer Service Rep</td>\n",
       "      <td>$3,200</td>\n",
       "      <td>641.0</td>\n",
       "      <td>4 years</td>\n",
       "      <td>Stable</td>\n",
       "      <td>No significant issues</td>\n",
       "      <td>No</td>\n",
       "    </tr>\n",
       "  </tbody>\n",
       "</table>\n",
       "<p>418 rows × 7 columns</p>\n",
       "</div>"
      ],
      "text/plain": [
       "               Occupation Monthly Income  Credit Score Years of Employment  \\\n",
       "0                 Teacher          40000         750.0                  10   \n",
       "1                Engineer          60000         800.0                   8   \n",
       "2                   Nurse          25000         650.0                   5   \n",
       "3                  Doctor          80000         900.0                  12   \n",
       "4             Businessman         100000         700.0                  15   \n",
       "..                    ...            ...           ...                 ...   \n",
       "495       Project Manager        $7,000          730.0             5 years   \n",
       "496                  Chef        $4,500          680.0             4 years   \n",
       "497     Interior Designer        $5,500          690.0             4 years   \n",
       "498     Medical Assistant        $3,500          640.0             3 years   \n",
       "499  Customer Service Rep        $3,200          641.0             4 years   \n",
       "\n",
       "    Finance Status            Finance History  Car  \n",
       "0             Good                  No issues  Yes  \n",
       "1             Good                  No issues  Yes  \n",
       "2             Fair  Late payment 2 months ago   No  \n",
       "3        Excellent                  No issues  Yes  \n",
       "4             Good  Late payment 6 months ago  Yes  \n",
       "..             ...                        ...  ...  \n",
       "495         Stable      No significant issues  Yes  \n",
       "496         Stable      No significant issues  Yes  \n",
       "497         Stable      No significant issues  Yes  \n",
       "498         Stable      No significant issues   No  \n",
       "499         Stable      No significant issues   No  \n",
       "\n",
       "[418 rows x 7 columns]"
      ]
     },
     "execution_count": 9,
     "metadata": {},
     "output_type": "execute_result"
    }
   ],
   "source": [
    "df"
   ]
  },
  {
   "cell_type": "code",
   "execution_count": 10,
   "id": "4866b9ab",
   "metadata": {},
   "outputs": [
    {
     "data": {
      "text/plain": [
       "array(['10', '8', '5', '12', '15', '6', '3', '20', '1', '7', '4', '2',\n",
       "       '3 years', '5 years', '2 years', '7 years', '1 year', '4 years',\n",
       "       '8 years', '6 years', '2 y', '3 year', '2 year', '6 year', '7 y',\n",
       "       '10 years', '12 years', '3 y', '9 years', '11 years', '7 year',\n",
       "       '8 year', '4 year', '5 year'], dtype=object)"
      ]
     },
     "execution_count": 10,
     "metadata": {},
     "output_type": "execute_result"
    }
   ],
   "source": [
    "df['Years of Employment'].unique()"
   ]
  },
  {
   "cell_type": "code",
   "execution_count": 11,
   "id": "dd16f8b7",
   "metadata": {},
   "outputs": [],
   "source": [
    "df['Years of Employment'] = df['Years of Employment'].apply(lambda x:str(x).replace('years','').replace('year','').replace('y',''))"
   ]
  },
  {
   "cell_type": "code",
   "execution_count": 12,
   "id": "3514374f",
   "metadata": {},
   "outputs": [
    {
     "data": {
      "text/html": [
       "<div>\n",
       "<style scoped>\n",
       "    .dataframe tbody tr th:only-of-type {\n",
       "        vertical-align: middle;\n",
       "    }\n",
       "\n",
       "    .dataframe tbody tr th {\n",
       "        vertical-align: top;\n",
       "    }\n",
       "\n",
       "    .dataframe thead th {\n",
       "        text-align: right;\n",
       "    }\n",
       "</style>\n",
       "<table border=\"1\" class=\"dataframe\">\n",
       "  <thead>\n",
       "    <tr style=\"text-align: right;\">\n",
       "      <th></th>\n",
       "      <th>Occupation</th>\n",
       "      <th>Monthly Income</th>\n",
       "      <th>Credit Score</th>\n",
       "      <th>Years of Employment</th>\n",
       "      <th>Finance Status</th>\n",
       "      <th>Finance History</th>\n",
       "      <th>Car</th>\n",
       "    </tr>\n",
       "  </thead>\n",
       "  <tbody>\n",
       "    <tr>\n",
       "      <th>0</th>\n",
       "      <td>Teacher</td>\n",
       "      <td>40000</td>\n",
       "      <td>750.0</td>\n",
       "      <td>10</td>\n",
       "      <td>Good</td>\n",
       "      <td>No issues</td>\n",
       "      <td>Yes</td>\n",
       "    </tr>\n",
       "    <tr>\n",
       "      <th>1</th>\n",
       "      <td>Engineer</td>\n",
       "      <td>60000</td>\n",
       "      <td>800.0</td>\n",
       "      <td>8</td>\n",
       "      <td>Good</td>\n",
       "      <td>No issues</td>\n",
       "      <td>Yes</td>\n",
       "    </tr>\n",
       "    <tr>\n",
       "      <th>2</th>\n",
       "      <td>Nurse</td>\n",
       "      <td>25000</td>\n",
       "      <td>650.0</td>\n",
       "      <td>5</td>\n",
       "      <td>Fair</td>\n",
       "      <td>Late payment 2 months ago</td>\n",
       "      <td>No</td>\n",
       "    </tr>\n",
       "    <tr>\n",
       "      <th>3</th>\n",
       "      <td>Doctor</td>\n",
       "      <td>80000</td>\n",
       "      <td>900.0</td>\n",
       "      <td>12</td>\n",
       "      <td>Excellent</td>\n",
       "      <td>No issues</td>\n",
       "      <td>Yes</td>\n",
       "    </tr>\n",
       "    <tr>\n",
       "      <th>4</th>\n",
       "      <td>Businessman</td>\n",
       "      <td>100000</td>\n",
       "      <td>700.0</td>\n",
       "      <td>15</td>\n",
       "      <td>Good</td>\n",
       "      <td>Late payment 6 months ago</td>\n",
       "      <td>Yes</td>\n",
       "    </tr>\n",
       "    <tr>\n",
       "      <th>...</th>\n",
       "      <td>...</td>\n",
       "      <td>...</td>\n",
       "      <td>...</td>\n",
       "      <td>...</td>\n",
       "      <td>...</td>\n",
       "      <td>...</td>\n",
       "      <td>...</td>\n",
       "    </tr>\n",
       "    <tr>\n",
       "      <th>495</th>\n",
       "      <td>Project Manager</td>\n",
       "      <td>$7,000</td>\n",
       "      <td>730.0</td>\n",
       "      <td>5</td>\n",
       "      <td>Stable</td>\n",
       "      <td>No significant issues</td>\n",
       "      <td>Yes</td>\n",
       "    </tr>\n",
       "    <tr>\n",
       "      <th>496</th>\n",
       "      <td>Chef</td>\n",
       "      <td>$4,500</td>\n",
       "      <td>680.0</td>\n",
       "      <td>4</td>\n",
       "      <td>Stable</td>\n",
       "      <td>No significant issues</td>\n",
       "      <td>Yes</td>\n",
       "    </tr>\n",
       "    <tr>\n",
       "      <th>497</th>\n",
       "      <td>Interior Designer</td>\n",
       "      <td>$5,500</td>\n",
       "      <td>690.0</td>\n",
       "      <td>4</td>\n",
       "      <td>Stable</td>\n",
       "      <td>No significant issues</td>\n",
       "      <td>Yes</td>\n",
       "    </tr>\n",
       "    <tr>\n",
       "      <th>498</th>\n",
       "      <td>Medical Assistant</td>\n",
       "      <td>$3,500</td>\n",
       "      <td>640.0</td>\n",
       "      <td>3</td>\n",
       "      <td>Stable</td>\n",
       "      <td>No significant issues</td>\n",
       "      <td>No</td>\n",
       "    </tr>\n",
       "    <tr>\n",
       "      <th>499</th>\n",
       "      <td>Customer Service Rep</td>\n",
       "      <td>$3,200</td>\n",
       "      <td>641.0</td>\n",
       "      <td>4</td>\n",
       "      <td>Stable</td>\n",
       "      <td>No significant issues</td>\n",
       "      <td>No</td>\n",
       "    </tr>\n",
       "  </tbody>\n",
       "</table>\n",
       "<p>418 rows × 7 columns</p>\n",
       "</div>"
      ],
      "text/plain": [
       "               Occupation Monthly Income  Credit Score Years of Employment  \\\n",
       "0                 Teacher          40000         750.0                  10   \n",
       "1                Engineer          60000         800.0                   8   \n",
       "2                   Nurse          25000         650.0                   5   \n",
       "3                  Doctor          80000         900.0                  12   \n",
       "4             Businessman         100000         700.0                  15   \n",
       "..                    ...            ...           ...                 ...   \n",
       "495       Project Manager        $7,000          730.0                  5    \n",
       "496                  Chef        $4,500          680.0                  4    \n",
       "497     Interior Designer        $5,500          690.0                  4    \n",
       "498     Medical Assistant        $3,500          640.0                  3    \n",
       "499  Customer Service Rep        $3,200          641.0                  4    \n",
       "\n",
       "    Finance Status            Finance History  Car  \n",
       "0             Good                  No issues  Yes  \n",
       "1             Good                  No issues  Yes  \n",
       "2             Fair  Late payment 2 months ago   No  \n",
       "3        Excellent                  No issues  Yes  \n",
       "4             Good  Late payment 6 months ago  Yes  \n",
       "..             ...                        ...  ...  \n",
       "495         Stable      No significant issues  Yes  \n",
       "496         Stable      No significant issues  Yes  \n",
       "497         Stable      No significant issues  Yes  \n",
       "498         Stable      No significant issues   No  \n",
       "499         Stable      No significant issues   No  \n",
       "\n",
       "[418 rows x 7 columns]"
      ]
     },
     "execution_count": 12,
     "metadata": {},
     "output_type": "execute_result"
    }
   ],
   "source": [
    "df"
   ]
  },
  {
   "cell_type": "code",
   "execution_count": 13,
   "id": "3d4176d0",
   "metadata": {},
   "outputs": [
    {
     "data": {
      "text/plain": [
       "array(['40000', '60000', '25000', '80000', '100000', '50000', '35000',\n",
       "       '20000', '120000', '90000', '6000', '3000', '4000', '8000', '9000',\n",
       "       '12000', '5000', '7000', '3500', '2500', '5500', '4500', '10000',\n",
       "       '2000', '$4,500 ', '$7,800 ', '$3,200 ', '$6,500 ', '$3,000 ',\n",
       "       '$3,800 ', '$10,000 ', '$2,500 ', '$5,200 ', '$3,700 ', '$8,500 ',\n",
       "       '$6,200 ', '$2,800 ', '$9,000 ', '$6,000 ', '$3,500 ', '$5,800 ',\n",
       "       '$6,800 ', '$2,700 ', '$3,600 ', '$9,200 ', '$3,100 ', '$7,000 ',\n",
       "       '$4,800 ', '$4,200 ', '$7,500 ', '$5,000 ', '3.2k USD', '8.5k USD',\n",
       "       '9k', '$4,000 ', '$8,000 ', '$15,000 ', '5k', '$9,500 ', '$5,500 ',\n",
       "       '$12,000 ', '15k', '$2,000 ', '$1,500 ', '$7,200 ', '2.8k', '7.5k',\n",
       "       '5000 usd', '2500 usd', '8000 usd', '9000 USD', '10000 USD',\n",
       "       '3500 USD', '2.5k', '6000 usd', '4500 usd', '$2,200 ', '$4,100 ',\n",
       "       '$8,200 ', '$3,900 ', '$2,900 ', '$11,000 ', '$4,600 ', '$5,400 ',\n",
       "       '$4,400 ', '$6,100 ', '$3,400 ', '$8,400 ', '11k', '$8,600 ',\n",
       "       '3400 usd', '$6,900 ', '$4,300 ', '3200 USD', '$10,500 '],\n",
       "      dtype=object)"
      ]
     },
     "execution_count": 13,
     "metadata": {},
     "output_type": "execute_result"
    }
   ],
   "source": [
    "df['Monthly Income'].unique()"
   ]
  },
  {
   "cell_type": "code",
   "execution_count": 14,
   "id": "fcafd9c0",
   "metadata": {},
   "outputs": [],
   "source": [
    "df['Monthly Income'] = df['Monthly Income'].apply(lambda x:str(x).replace('$','').replace(',','').replace('USD','').replace('usd',''))"
   ]
  },
  {
   "cell_type": "code",
   "execution_count": 15,
   "id": "115e86f0",
   "metadata": {},
   "outputs": [],
   "source": [
    "df['Monthly Income'] = df['Monthly Income'].apply(lambda x:str(x).rstrip())\n",
    "df['Monthly Income'] = df['Monthly Income'].apply(lambda x:float(x[:-1])*1000 if x.endswith('k') else int(x))"
   ]
  },
  {
   "cell_type": "code",
   "execution_count": 16,
   "id": "199d6768",
   "metadata": {},
   "outputs": [],
   "source": [
    "df['Years of Employment'] = df['Years of Employment'].astype(int)"
   ]
  },
  {
   "cell_type": "code",
   "execution_count": 17,
   "id": "5342f895",
   "metadata": {},
   "outputs": [
    {
     "data": {
      "text/plain": [
       "array(['No issues', 'Late payment 2 months ago',\n",
       "       'Late payment 6 months ago', 'Late payment 3 months ago',\n",
       "       'Late payment 1 month ago', 'Excellent', 'Poor', 'Good', 'Fair',\n",
       "       'No significant issues', 'Missed payments in the past',\n",
       "       'Late payments', 'Late payment', 'No significant issue',\n",
       "       'Late payments, collections'], dtype=object)"
      ]
     },
     "execution_count": 17,
     "metadata": {},
     "output_type": "execute_result"
    }
   ],
   "source": [
    "df['Finance History'].unique()"
   ]
  },
  {
   "cell_type": "code",
   "execution_count": 18,
   "id": "598c693d",
   "metadata": {},
   "outputs": [
    {
     "data": {
      "text/plain": [
       "array(['Good', 'Fair', 'Excellent', 'Poor', 'Stable', 'Unstable',\n",
       "       'Unknow', 'Unkonw'], dtype=object)"
      ]
     },
     "execution_count": 18,
     "metadata": {},
     "output_type": "execute_result"
    }
   ],
   "source": [
    "df['Finance Status'].unique()"
   ]
  },
  {
   "cell_type": "code",
   "execution_count": 19,
   "id": "fac6baeb",
   "metadata": {},
   "outputs": [],
   "source": [
    "df['Finance History'] = df['Finance History'].apply(lambda x:str(x).replace('No significant issues','No significant issue').replace('Late payments','Late payment'))"
   ]
  },
  {
   "cell_type": "code",
   "execution_count": 20,
   "id": "20c59804",
   "metadata": {},
   "outputs": [],
   "source": [
    "df['Finance Status'] = df['Finance Status'].apply(lambda x:str(x).replace('Unkonw','Unknow'))"
   ]
  },
  {
   "cell_type": "code",
   "execution_count": 21,
   "id": "9c5f5a68",
   "metadata": {},
   "outputs": [
    {
     "name": "stdout",
     "output_type": "stream",
     "text": [
      "<class 'pandas.core.frame.DataFrame'>\n",
      "Int64Index: 418 entries, 0 to 499\n",
      "Data columns (total 7 columns):\n",
      " #   Column               Non-Null Count  Dtype  \n",
      "---  ------               --------------  -----  \n",
      " 0   Occupation           418 non-null    object \n",
      " 1   Monthly Income       418 non-null    float64\n",
      " 2   Credit Score         418 non-null    float64\n",
      " 3   Years of Employment  418 non-null    int32  \n",
      " 4   Finance Status       418 non-null    object \n",
      " 5   Finance History      418 non-null    object \n",
      " 6   Car                  418 non-null    object \n",
      "dtypes: float64(2), int32(1), object(4)\n",
      "memory usage: 24.5+ KB\n"
     ]
    }
   ],
   "source": [
    "df.info()"
   ]
  },
  {
   "cell_type": "code",
   "execution_count": 22,
   "id": "a5a78c59",
   "metadata": {},
   "outputs": [
    {
     "data": {
      "image/png": "[encoded data removed]",
      "text/plain": [
       "<Figure size 640x480 with 1 Axes>"
      ]
     },
     "metadata": {},
     "output_type": "display_data"
    }
   ],
   "source": [
    "# check the outlier\n",
    "sns.boxplot(x = 'Credit Score',data = df)\n",
    "plt.show()"
   ]
  },
  {
   "cell_type": "code",
   "execution_count": 23,
   "id": "c5dfa98a",
   "metadata": {},
   "outputs": [
    {
     "data": {
      "image/png": "[encoded data removed]",
      "text/plain": [
       "<Figure size 640x480 with 1 Axes>"
      ]
     },
     "metadata": {},
     "output_type": "display_data"
    }
   ],
   "source": [
    "# data visulizations\n",
    "a = df.groupby('Occupation')['Monthly Income'].max().sort_values(ascending = False).head(5).plot(kind = 'bar')\n",
    "for i in a.containers:\n",
    "    a.bar_label(i,)\n",
    "plt.show()"
   ]
  },
  {
   "cell_type": "code",
   "execution_count": 24,
   "id": "9200c1d9",
   "metadata": {},
   "outputs": [
    {
     "data": {
      "image/png": "[encoded data removed]",
      "text/plain": [
       "<Figure size 640x480 with 1 Axes>"
      ]
     },
     "metadata": {},
     "output_type": "display_data"
    }
   ],
   "source": [
    "sns.histplot(x = 'Credit Score',data = df,kde = True,bins = 10)\n",
    "plt.show()"
   ]
  },
  {
   "cell_type": "code",
   "execution_count": 25,
   "id": "0f4b8d6e",
   "metadata": {},
   "outputs": [
    {
     "data": {
      "image/png": "[encoded data removed]",
      "text/plain": [
       "<Figure size 640x480 with 1 Axes>"
      ]
     },
     "metadata": {},
     "output_type": "display_data"
    }
   ],
   "source": [
    "sns.lineplot(x = 'Years of Employment',y = 'Monthly Income',data = df)\n",
    "plt.show()"
   ]
  },
  {
   "cell_type": "code",
   "execution_count": 26,
   "id": "e7ed4dd2",
   "metadata": {},
   "outputs": [
    {
     "data": {
      "image/png": "[encoded data removed]",
      "text/plain": [
       "<Figure size 640x480 with 1 Axes>"
      ]
     },
     "metadata": {},
     "output_type": "display_data"
    }
   ],
   "source": [
    "c = sns.countplot(x ='Finance Status',data = df)\n",
    "for i in c.containers:\n",
    "    c.bar_label(i,)\n",
    "plt.show()"
   ]
  },
  {
   "cell_type": "code",
   "execution_count": 27,
   "id": "2aec606d",
   "metadata": {},
   "outputs": [
    {
     "data": {
      "image/png": "[encoded data removed]",
      "text/plain": [
       "<Figure size 640x480 with 2 Axes>"
      ]
     },
     "metadata": {},
     "output_type": "display_data"
    }
   ],
   "source": [
    "cor = df.corr()\n",
    "sns.heatmap(cor,annot = True)\n",
    "plt.show()"
   ]
  },
  {
   "cell_type": "code",
   "execution_count": 28,
   "id": "923790e2",
   "metadata": {},
   "outputs": [],
   "source": [
    "from sklearn.preprocessing import LabelEncoder"
   ]
  },
  {
   "cell_type": "code",
   "execution_count": 29,
   "id": "4393caed",
   "metadata": {},
   "outputs": [],
   "source": [
    "la = LabelEncoder()"
   ]
  },
  {
   "cell_type": "code",
   "execution_count": 30,
   "id": "9472cdb0",
   "metadata": {},
   "outputs": [],
   "source": [
    "df['newCar'] = la.fit_transform(df['Car'])"
   ]
  },
  {
   "cell_type": "code",
   "execution_count": 31,
   "id": "971b1b62",
   "metadata": {},
   "outputs": [],
   "source": [
    "df['newOccupation'] = la.fit_transform(df['Occupation'])"
   ]
  },
  {
   "cell_type": "code",
   "execution_count": 32,
   "id": "a483b7f9",
   "metadata": {},
   "outputs": [],
   "source": [
    "df['newFinance Status'] = la.fit_transform(df['Finance Status'])"
   ]
  },
  {
   "cell_type": "code",
   "execution_count": 33,
   "id": "5797779a",
   "metadata": {},
   "outputs": [],
   "source": [
    "df['newFinance History'] = la.fit_transform(df['Finance History'])"
   ]
  },
  {
   "cell_type": "code",
   "execution_count": 34,
   "id": "8f8808d8",
   "metadata": {},
   "outputs": [],
   "source": [
    "df.drop(['Car','Occupation','Finance Status','Finance History'],axis = 1,inplace = True)"
   ]
  },
  {
   "cell_type": "code",
   "execution_count": 35,
   "id": "2dd9c5d9",
   "metadata": {},
   "outputs": [
    {
     "data": {
      "text/plain": [
       "array([[4.00e+04, 7.50e+02, 1.00e+01, 1.06e+02, 2.00e+00, 1.00e+01],\n",
       "       [6.00e+04, 8.00e+02, 8.00e+00, 3.10e+01, 2.00e+00, 1.00e+01],\n",
       "       [2.50e+04, 6.50e+02, 5.00e+00, 7.30e+01, 1.00e+00, 5.00e+00],\n",
       "       ...,\n",
       "       [5.50e+03, 6.90e+02, 4.00e+00, 5.70e+01, 4.00e+00, 1.10e+01],\n",
       "       [3.50e+03, 6.40e+02, 3.00e+00, 7.10e+01, 4.00e+00, 1.10e+01],\n",
       "       [3.20e+03, 6.41e+02, 4.00e+00, 1.90e+01, 4.00e+00, 1.10e+01]])"
      ]
     },
     "execution_count": 35,
     "metadata": {},
     "output_type": "execute_result"
    }
   ],
   "source": [
    "x = df.drop('newCar',axis = 1).values\n",
    "x"
   ]
  },
  {
   "cell_type": "code",
   "execution_count": 36,
   "id": "a958b480",
   "metadata": {},
   "outputs": [
    {
     "data": {
      "text/plain": [
       "array([1, 1, 0, 1, 1, 0, 1, 0, 1, 1, 1, 0, 1, 1, 1, 1, 0, 1, 0, 0, 1, 0,\n",
       "       0, 0, 1, 1, 0, 0, 1, 1, 0, 1, 0, 1, 1, 0, 1, 0, 1, 1, 0, 1, 0, 0,\n",
       "       0, 1, 0, 1, 1, 0, 1, 0, 0, 1, 0, 0, 1, 0, 1, 0, 0, 1, 0, 0, 1, 1,\n",
       "       0, 1, 1, 0, 1, 0, 1, 0, 0, 1, 0, 0, 1, 0, 1, 0, 0, 1, 0, 0, 1, 1,\n",
       "       0, 0, 1, 0, 1, 0, 1, 1, 0, 0, 1, 0, 1, 0, 0, 1, 1, 0, 0, 1, 1, 1,\n",
       "       1, 0, 1, 0, 1, 0, 0, 1, 0, 1, 1, 0, 0, 1, 0, 0, 1, 1, 0, 1, 0, 0,\n",
       "       1, 0, 1, 0, 1, 0, 0, 0, 1, 1, 0, 1, 1, 0, 0, 1, 0, 1, 0, 1, 1, 1,\n",
       "       0, 1, 1, 0, 1, 1, 0, 1, 0, 1, 1, 0, 1, 0, 0, 0, 1, 1, 0, 0, 1, 0,\n",
       "       1, 0, 1, 1, 0, 1, 0, 1, 1, 1, 0, 1, 1, 1, 0, 1, 1, 1, 0, 1, 0, 1,\n",
       "       1, 0, 1, 0, 0, 1, 0, 1, 0, 1, 1, 1, 1, 1, 1, 0, 1, 1, 0, 1, 1, 1,\n",
       "       1, 1, 1, 1, 1, 1, 1, 1, 1, 1, 0, 1, 1, 0, 1, 0, 1, 1, 1, 0, 1, 1,\n",
       "       1, 1, 0, 1, 0, 0, 1, 0, 0, 0, 1, 1, 0, 0, 1, 1, 0, 1, 0, 1, 1, 0,\n",
       "       1, 0, 1, 1, 0, 1, 0, 0, 0, 1, 0, 1, 1, 0, 1, 0, 0, 1, 0, 0, 1, 0,\n",
       "       1, 0, 0, 1, 0, 0, 1, 1, 0, 1, 1, 1, 1, 1, 1, 0, 0, 0, 1, 1, 1, 1,\n",
       "       1, 1, 1, 1, 1, 1, 0, 0, 0, 1, 1, 1, 1, 1, 1, 1, 1, 1, 1, 1, 1, 1,\n",
       "       1, 1, 1, 1, 1, 1, 1, 0, 1, 1, 1, 1, 1, 1, 1, 1, 1, 0, 1, 0, 1, 1,\n",
       "       1, 1, 1, 1, 1, 1, 1, 0, 1, 1, 1, 1, 1, 1, 1, 1, 1, 1, 1, 1, 1, 1,\n",
       "       1, 1, 1, 1, 1, 0, 1, 1, 1, 1, 1, 1, 0, 1, 1, 0, 1, 1, 1, 1, 0, 0,\n",
       "       1, 1, 1, 1, 0, 1, 1, 0, 0, 1, 1, 1, 1, 1, 1, 0, 1, 1, 1, 1, 0, 0])"
      ]
     },
     "execution_count": 36,
     "metadata": {},
     "output_type": "execute_result"
    }
   ],
   "source": [
    "y = df['newCar'].values\n",
    "y"
   ]
  },
  {
   "cell_type": "code",
   "execution_count": 37,
   "id": "6c5ba519",
   "metadata": {},
   "outputs": [],
   "source": [
    "from sklearn.model_selection import train_test_split\n",
    "from sklearn.linear_model import LogisticRegression"
   ]
  },
  {
   "cell_type": "code",
   "execution_count": 38,
   "id": "d91e536e",
   "metadata": {},
   "outputs": [],
   "source": [
    "x_train,x_test,y_train,y_test = train_test_split(x,y,test_size = 0.2,random_state=0)"
   ]
  },
  {
   "cell_type": "code",
   "execution_count": 39,
   "id": "f7245221",
   "metadata": {},
   "outputs": [],
   "source": [
    "model = LogisticRegression()"
   ]
  },
  {
   "cell_type": "code",
   "execution_count": 40,
   "id": "cd6e4cf2",
   "metadata": {},
   "outputs": [
    {
     "data": {
      "text/plain": [
       "LogisticRegression()"
      ]
     },
     "execution_count": 40,
     "metadata": {},
     "output_type": "execute_result"
    }
   ],
   "source": [
    "model.fit(x_train,y_train)"
   ]
  },
  {
   "cell_type": "code",
   "execution_count": 41,
   "id": "27083c8e",
   "metadata": {},
   "outputs": [
    {
     "data": {
      "text/plain": [
       "0.8571428571428571"
      ]
     },
     "execution_count": 41,
     "metadata": {},
     "output_type": "execute_result"
    }
   ],
   "source": [
    "model.score(x_test,y_test)"
   ]
  },
  {
   "cell_type": "code",
   "execution_count": 46,
   "id": "d3818d4d",
   "metadata": {},
   "outputs": [
    {
     "data": {
      "text/plain": [
       "array([1, 1, 0, 1, 1, 1, 0, 0, 1, 1, 1, 0, 1, 1, 1, 0, 1, 1, 1, 1, 1, 0,\n",
       "       1, 0, 0, 0, 0, 0, 1, 1, 1, 0, 1, 1, 1, 1, 0, 1, 0, 1, 1, 1, 0, 1,\n",
       "       0, 1, 1, 1, 1, 1, 1, 1, 1, 1, 1, 0, 1, 1, 0, 1, 0, 1, 1, 0, 1, 1,\n",
       "       0, 0, 0, 1, 0, 1, 0, 1, 0, 1, 0, 1, 1, 1, 0, 0, 0, 1])"
      ]
     },
     "execution_count": 46,
     "metadata": {},
     "output_type": "execute_result"
    }
   ],
   "source": [
    "y_pre = model.predict(x_test)\n",
    "y_pre"
   ]
  },
  {
   "cell_type": "code",
   "execution_count": 47,
   "id": "adfffb5a",
   "metadata": {},
   "outputs": [
    {
     "data": {
      "text/plain": [
       "array([1, 1, 1, 1, 1, 1, 0, 1, 0, 1, 0, 0, 1, 1, 1, 0, 1, 1, 1, 1, 1, 0,\n",
       "       1, 0, 0, 0, 0, 0, 1, 1, 1, 0, 1, 1, 1, 1, 0, 1, 0, 0, 1, 1, 0, 1,\n",
       "       0, 1, 1, 1, 0, 1, 0, 1, 1, 1, 1, 0, 0, 1, 0, 1, 0, 1, 1, 0, 1, 0,\n",
       "       0, 0, 0, 1, 0, 1, 1, 1, 0, 0, 0, 1, 1, 1, 0, 0, 1, 1])"
      ]
     },
     "execution_count": 47,
     "metadata": {},
     "output_type": "execute_result"
    }
   ],
   "source": [
    "y_test"
   ]
  },
  {
   "cell_type": "code",
   "execution_count": 43,
   "id": "6992f30a",
   "metadata": {},
   "outputs": [
    {
     "data": {
      "text/plain": [
       "array([[-1.22097414e-04, -1.25516541e-02,  2.24638512e+00,\n",
       "         5.10157020e-03,  8.51602734e-02,  1.25253539e-01]])"
      ]
     },
     "execution_count": 43,
     "metadata": {},
     "output_type": "execute_result"
    }
   ],
   "source": [
    "model.coef_"
   ]
  },
  {
   "cell_type": "code",
   "execution_count": 44,
   "id": "854685d8",
   "metadata": {},
   "outputs": [
    {
     "data": {
      "text/plain": [
       "array([-0.1381185])"
      ]
     },
     "execution_count": 44,
     "metadata": {},
     "output_type": "execute_result"
    }
   ],
   "source": [
    "model.intercept_"
   ]
  },
  {
   "cell_type": "code",
   "execution_count": 45,
   "id": "e68a8c9a",
   "metadata": {},
   "outputs": [],
   "source": [
    "from sklearn.metrics import accuracy_score"
   ]
  },
  {
   "cell_type": "code",
   "execution_count": 48,
   "id": "348bad2b",
   "metadata": {},
   "outputs": [
    {
     "data": {
      "text/plain": [
       "0.8571428571428571"
      ]
     },
     "execution_count": 48,
     "metadata": {},
     "output_type": "execute_result"
    }
   ],
   "source": [
    "accuracy_score(y_test,y_pre)"
   ]
  },
  {
   "cell_type": "code",
   "execution_count": null,
   "id": "36b53056",
   "metadata": {},
   "outputs": [],
   "source": []
  }
 ],
 "metadata": {
  "kernelspec": {
   "display_name": "Python 3 (ipykernel)",
   "language": "python",
   "name": "python3"
  },
  "language_info": {
   "codemirror_mode": {
    "name": "ipython",
    "version": 3
   },
   "file_extension": ".py",
   "mimetype": "text/x-python",
   "name": "python",
   "nbconvert_exporter": "python",
   "pygments_lexer": "ipython3",
   "version": "3.9.13"
  }
 },
 "nbformat": 4,
 "nbformat_minor": 5
}
