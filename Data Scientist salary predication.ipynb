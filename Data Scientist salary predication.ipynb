{
 "cells": [
  {
   "cell_type": "code",
   "execution_count": 1,
   "id": "6dd222f9",
   "metadata": {},
   "outputs": [],
   "source": [
    "import pandas as pd\n",
    "import numpy as np\n",
    "import seaborn as sns\n",
    "import matplotlib.pyplot as plt"
   ]
  },
  {
   "cell_type": "code",
   "execution_count": 2,
   "id": "11de25d3",
   "metadata": {},
   "outputs": [
    {
     "data": {
      "text/html": [
       "<div>\n",
       "<style scoped>\n",
       "    .dataframe tbody tr th:only-of-type {\n",
       "        vertical-align: middle;\n",
       "    }\n",
       "\n",
       "    .dataframe tbody tr th {\n",
       "        vertical-align: top;\n",
       "    }\n",
       "\n",
       "    .dataframe thead th {\n",
       "        text-align: right;\n",
       "    }\n",
       "</style>\n",
       "<table border=\"1\" class=\"dataframe\">\n",
       "  <thead>\n",
       "    <tr style=\"text-align: right;\">\n",
       "      <th></th>\n",
       "      <th>work_year</th>\n",
       "      <th>experience_level</th>\n",
       "      <th>employment_type</th>\n",
       "      <th>job_title</th>\n",
       "      <th>salary</th>\n",
       "      <th>salary_currency</th>\n",
       "      <th>salary_in_usd</th>\n",
       "      <th>employee_residence</th>\n",
       "      <th>remote_ratio</th>\n",
       "      <th>company_location</th>\n",
       "      <th>company_size</th>\n",
       "    </tr>\n",
       "  </thead>\n",
       "  <tbody>\n",
       "    <tr>\n",
       "      <th>0</th>\n",
       "      <td>2024</td>\n",
       "      <td>SE</td>\n",
       "      <td>FT</td>\n",
       "      <td>AI Engineer</td>\n",
       "      <td>202730</td>\n",
       "      <td>USD</td>\n",
       "      <td>202730</td>\n",
       "      <td>US</td>\n",
       "      <td>0</td>\n",
       "      <td>US</td>\n",
       "      <td>M</td>\n",
       "    </tr>\n",
       "    <tr>\n",
       "      <th>1</th>\n",
       "      <td>2024</td>\n",
       "      <td>SE</td>\n",
       "      <td>FT</td>\n",
       "      <td>AI Engineer</td>\n",
       "      <td>92118</td>\n",
       "      <td>USD</td>\n",
       "      <td>92118</td>\n",
       "      <td>US</td>\n",
       "      <td>0</td>\n",
       "      <td>US</td>\n",
       "      <td>M</td>\n",
       "    </tr>\n",
       "    <tr>\n",
       "      <th>2</th>\n",
       "      <td>2024</td>\n",
       "      <td>SE</td>\n",
       "      <td>FT</td>\n",
       "      <td>Data Engineer</td>\n",
       "      <td>130500</td>\n",
       "      <td>USD</td>\n",
       "      <td>130500</td>\n",
       "      <td>US</td>\n",
       "      <td>0</td>\n",
       "      <td>US</td>\n",
       "      <td>M</td>\n",
       "    </tr>\n",
       "    <tr>\n",
       "      <th>3</th>\n",
       "      <td>2024</td>\n",
       "      <td>SE</td>\n",
       "      <td>FT</td>\n",
       "      <td>Data Engineer</td>\n",
       "      <td>96000</td>\n",
       "      <td>USD</td>\n",
       "      <td>96000</td>\n",
       "      <td>US</td>\n",
       "      <td>0</td>\n",
       "      <td>US</td>\n",
       "      <td>M</td>\n",
       "    </tr>\n",
       "    <tr>\n",
       "      <th>4</th>\n",
       "      <td>2024</td>\n",
       "      <td>SE</td>\n",
       "      <td>FT</td>\n",
       "      <td>Machine Learning Engineer</td>\n",
       "      <td>190000</td>\n",
       "      <td>USD</td>\n",
       "      <td>190000</td>\n",
       "      <td>US</td>\n",
       "      <td>0</td>\n",
       "      <td>US</td>\n",
       "      <td>M</td>\n",
       "    </tr>\n",
       "    <tr>\n",
       "      <th>...</th>\n",
       "      <td>...</td>\n",
       "      <td>...</td>\n",
       "      <td>...</td>\n",
       "      <td>...</td>\n",
       "      <td>...</td>\n",
       "      <td>...</td>\n",
       "      <td>...</td>\n",
       "      <td>...</td>\n",
       "      <td>...</td>\n",
       "      <td>...</td>\n",
       "      <td>...</td>\n",
       "    </tr>\n",
       "    <tr>\n",
       "      <th>16529</th>\n",
       "      <td>2020</td>\n",
       "      <td>SE</td>\n",
       "      <td>FT</td>\n",
       "      <td>Data Scientist</td>\n",
       "      <td>412000</td>\n",
       "      <td>USD</td>\n",
       "      <td>412000</td>\n",
       "      <td>US</td>\n",
       "      <td>100</td>\n",
       "      <td>US</td>\n",
       "      <td>L</td>\n",
       "    </tr>\n",
       "    <tr>\n",
       "      <th>16530</th>\n",
       "      <td>2021</td>\n",
       "      <td>MI</td>\n",
       "      <td>FT</td>\n",
       "      <td>Principal Data Scientist</td>\n",
       "      <td>151000</td>\n",
       "      <td>USD</td>\n",
       "      <td>151000</td>\n",
       "      <td>US</td>\n",
       "      <td>100</td>\n",
       "      <td>US</td>\n",
       "      <td>L</td>\n",
       "    </tr>\n",
       "    <tr>\n",
       "      <th>16531</th>\n",
       "      <td>2020</td>\n",
       "      <td>EN</td>\n",
       "      <td>FT</td>\n",
       "      <td>Data Scientist</td>\n",
       "      <td>105000</td>\n",
       "      <td>USD</td>\n",
       "      <td>105000</td>\n",
       "      <td>US</td>\n",
       "      <td>100</td>\n",
       "      <td>US</td>\n",
       "      <td>S</td>\n",
       "    </tr>\n",
       "    <tr>\n",
       "      <th>16532</th>\n",
       "      <td>2020</td>\n",
       "      <td>EN</td>\n",
       "      <td>CT</td>\n",
       "      <td>Business Data Analyst</td>\n",
       "      <td>100000</td>\n",
       "      <td>USD</td>\n",
       "      <td>100000</td>\n",
       "      <td>US</td>\n",
       "      <td>100</td>\n",
       "      <td>US</td>\n",
       "      <td>L</td>\n",
       "    </tr>\n",
       "    <tr>\n",
       "      <th>16533</th>\n",
       "      <td>2021</td>\n",
       "      <td>SE</td>\n",
       "      <td>FT</td>\n",
       "      <td>Data Science Manager</td>\n",
       "      <td>7000000</td>\n",
       "      <td>INR</td>\n",
       "      <td>94665</td>\n",
       "      <td>IN</td>\n",
       "      <td>50</td>\n",
       "      <td>IN</td>\n",
       "      <td>L</td>\n",
       "    </tr>\n",
       "  </tbody>\n",
       "</table>\n",
       "<p>16534 rows × 11 columns</p>\n",
       "</div>"
      ],
      "text/plain": [
       "       work_year experience_level employment_type                  job_title  \\\n",
       "0           2024               SE              FT                AI Engineer   \n",
       "1           2024               SE              FT                AI Engineer   \n",
       "2           2024               SE              FT              Data Engineer   \n",
       "3           2024               SE              FT              Data Engineer   \n",
       "4           2024               SE              FT  Machine Learning Engineer   \n",
       "...          ...              ...             ...                        ...   \n",
       "16529       2020               SE              FT             Data Scientist   \n",
       "16530       2021               MI              FT   Principal Data Scientist   \n",
       "16531       2020               EN              FT             Data Scientist   \n",
       "16532       2020               EN              CT      Business Data Analyst   \n",
       "16533       2021               SE              FT       Data Science Manager   \n",
       "\n",
       "        salary salary_currency  salary_in_usd employee_residence  \\\n",
       "0       202730             USD         202730                 US   \n",
       "1        92118             USD          92118                 US   \n",
       "2       130500             USD         130500                 US   \n",
       "3        96000             USD          96000                 US   \n",
       "4       190000             USD         190000                 US   \n",
       "...        ...             ...            ...                ...   \n",
       "16529   412000             USD         412000                 US   \n",
       "16530   151000             USD         151000                 US   \n",
       "16531   105000             USD         105000                 US   \n",
       "16532   100000             USD         100000                 US   \n",
       "16533  7000000             INR          94665                 IN   \n",
       "\n",
       "       remote_ratio company_location company_size  \n",
       "0                 0               US            M  \n",
       "1                 0               US            M  \n",
       "2                 0               US            M  \n",
       "3                 0               US            M  \n",
       "4                 0               US            M  \n",
       "...             ...              ...          ...  \n",
       "16529           100               US            L  \n",
       "16530           100               US            L  \n",
       "16531           100               US            S  \n",
       "16532           100               US            L  \n",
       "16533            50               IN            L  \n",
       "\n",
       "[16534 rows x 11 columns]"
      ]
     },
     "execution_count": 2,
     "metadata": {},
     "output_type": "execute_result"
    }
   ],
   "source": [
    "df = pd.read_csv(r\"C:\\Users\\manth\\Downloads\\salaries (2).csv\")\n",
    "df"
   ]
  },
  {
   "cell_type": "code",
   "execution_count": 3,
   "id": "3f60e8a3",
   "metadata": {},
   "outputs": [
    {
     "data": {
      "text/plain": [
       "(16534, 11)"
      ]
     },
     "execution_count": 3,
     "metadata": {},
     "output_type": "execute_result"
    }
   ],
   "source": [
    "# check the number of rows and columns\n",
    "df.shape"
   ]
  },
  {
   "cell_type": "code",
   "execution_count": 4,
   "id": "555bce6c",
   "metadata": {},
   "outputs": [
    {
     "name": "stdout",
     "output_type": "stream",
     "text": [
      "<class 'pandas.core.frame.DataFrame'>\n",
      "RangeIndex: 16534 entries, 0 to 16533\n",
      "Data columns (total 11 columns):\n",
      " #   Column              Non-Null Count  Dtype \n",
      "---  ------              --------------  ----- \n",
      " 0   work_year           16534 non-null  int64 \n",
      " 1   experience_level    16534 non-null  object\n",
      " 2   employment_type     16534 non-null  object\n",
      " 3   job_title           16534 non-null  object\n",
      " 4   salary              16534 non-null  int64 \n",
      " 5   salary_currency     16534 non-null  object\n",
      " 6   salary_in_usd       16534 non-null  int64 \n",
      " 7   employee_residence  16534 non-null  object\n",
      " 8   remote_ratio        16534 non-null  int64 \n",
      " 9   company_location    16534 non-null  object\n",
      " 10  company_size        16534 non-null  object\n",
      "dtypes: int64(4), object(7)\n",
      "memory usage: 1.4+ MB\n"
     ]
    }
   ],
   "source": [
    "# check the data type\n",
    "df.info()"
   ]
  },
  {
   "cell_type": "code",
   "execution_count": 5,
   "id": "98efcb85",
   "metadata": {},
   "outputs": [
    {
     "data": {
      "text/plain": [
       "work_year             0\n",
       "experience_level      0\n",
       "employment_type       0\n",
       "job_title             0\n",
       "salary                0\n",
       "salary_currency       0\n",
       "salary_in_usd         0\n",
       "employee_residence    0\n",
       "remote_ratio          0\n",
       "company_location      0\n",
       "company_size          0\n",
       "dtype: int64"
      ]
     },
     "execution_count": 5,
     "metadata": {},
     "output_type": "execute_result"
    }
   ],
   "source": [
    "# check the null values\n",
    "df.isnull().sum()"
   ]
  },
  {
   "cell_type": "code",
   "execution_count": 6,
   "id": "f5a60f11",
   "metadata": {},
   "outputs": [
    {
     "data": {
      "text/plain": [
       "8973"
      ]
     },
     "execution_count": 6,
     "metadata": {},
     "output_type": "execute_result"
    }
   ],
   "source": [
    "# chech the duplicated values\n",
    "df.duplicated(keep = False).sum()"
   ]
  },
  {
   "cell_type": "code",
   "execution_count": 7,
   "id": "b4bb3fe9",
   "metadata": {},
   "outputs": [
    {
     "data": {
      "text/html": [
       "<div>\n",
       "<style scoped>\n",
       "    .dataframe tbody tr th:only-of-type {\n",
       "        vertical-align: middle;\n",
       "    }\n",
       "\n",
       "    .dataframe tbody tr th {\n",
       "        vertical-align: top;\n",
       "    }\n",
       "\n",
       "    .dataframe thead th {\n",
       "        text-align: right;\n",
       "    }\n",
       "</style>\n",
       "<table border=\"1\" class=\"dataframe\">\n",
       "  <thead>\n",
       "    <tr style=\"text-align: right;\">\n",
       "      <th></th>\n",
       "      <th>work_year</th>\n",
       "      <th>salary</th>\n",
       "      <th>salary_in_usd</th>\n",
       "      <th>remote_ratio</th>\n",
       "    </tr>\n",
       "  </thead>\n",
       "  <tbody>\n",
       "    <tr>\n",
       "      <th>count</th>\n",
       "      <td>16534.000000</td>\n",
       "      <td>1.653400e+04</td>\n",
       "      <td>16534.000000</td>\n",
       "      <td>16534.000000</td>\n",
       "    </tr>\n",
       "    <tr>\n",
       "      <th>mean</th>\n",
       "      <td>2023.226866</td>\n",
       "      <td>1.637270e+05</td>\n",
       "      <td>149686.777973</td>\n",
       "      <td>32.003750</td>\n",
       "    </tr>\n",
       "    <tr>\n",
       "      <th>std</th>\n",
       "      <td>0.713558</td>\n",
       "      <td>3.402057e+05</td>\n",
       "      <td>68505.293156</td>\n",
       "      <td>46.245158</td>\n",
       "    </tr>\n",
       "    <tr>\n",
       "      <th>min</th>\n",
       "      <td>2020.000000</td>\n",
       "      <td>1.400000e+04</td>\n",
       "      <td>15000.000000</td>\n",
       "      <td>0.000000</td>\n",
       "    </tr>\n",
       "    <tr>\n",
       "      <th>25%</th>\n",
       "      <td>2023.000000</td>\n",
       "      <td>1.017630e+05</td>\n",
       "      <td>101125.000000</td>\n",
       "      <td>0.000000</td>\n",
       "    </tr>\n",
       "    <tr>\n",
       "      <th>50%</th>\n",
       "      <td>2023.000000</td>\n",
       "      <td>1.422000e+05</td>\n",
       "      <td>141300.000000</td>\n",
       "      <td>0.000000</td>\n",
       "    </tr>\n",
       "    <tr>\n",
       "      <th>75%</th>\n",
       "      <td>2024.000000</td>\n",
       "      <td>1.872000e+05</td>\n",
       "      <td>185900.000000</td>\n",
       "      <td>100.000000</td>\n",
       "    </tr>\n",
       "    <tr>\n",
       "      <th>max</th>\n",
       "      <td>2024.000000</td>\n",
       "      <td>3.040000e+07</td>\n",
       "      <td>800000.000000</td>\n",
       "      <td>100.000000</td>\n",
       "    </tr>\n",
       "  </tbody>\n",
       "</table>\n",
       "</div>"
      ],
      "text/plain": [
       "          work_year        salary  salary_in_usd  remote_ratio\n",
       "count  16534.000000  1.653400e+04   16534.000000  16534.000000\n",
       "mean    2023.226866  1.637270e+05  149686.777973     32.003750\n",
       "std        0.713558  3.402057e+05   68505.293156     46.245158\n",
       "min     2020.000000  1.400000e+04   15000.000000      0.000000\n",
       "25%     2023.000000  1.017630e+05  101125.000000      0.000000\n",
       "50%     2023.000000  1.422000e+05  141300.000000      0.000000\n",
       "75%     2024.000000  1.872000e+05  185900.000000    100.000000\n",
       "max     2024.000000  3.040000e+07  800000.000000    100.000000"
      ]
     },
     "execution_count": 7,
     "metadata": {},
     "output_type": "execute_result"
    }
   ],
   "source": [
    "# check the statistical analysis\n",
    "df.describe()"
   ]
  },
  {
   "cell_type": "code",
   "execution_count": 8,
   "id": "87f7e712",
   "metadata": {},
   "outputs": [
    {
     "data": {
      "image/png": "[encoded data removed]",
      "text/plain": [
       "<Figure size 640x480 with 1 Axes>"
      ]
     },
     "metadata": {},
     "output_type": "display_data"
    }
   ],
   "source": [
    "# check the outliers \n",
    "sns.boxplot(x ='salary',data = df)\n",
    "plt.show()"
   ]
  },
  {
   "cell_type": "code",
   "execution_count": 9,
   "id": "43afe775",
   "metadata": {},
   "outputs": [
    {
     "name": "stdout",
     "output_type": "stream",
     "text": [
      "6         400000\n",
      "145       800000\n",
      "309       385000\n",
      "385       370000\n",
      "393       720000\n",
      "          ...   \n",
      "16509    1335000\n",
      "16514    1450000\n",
      "16526     423000\n",
      "16529     412000\n",
      "16533    7000000\n",
      "Name: salary, Length: 345, dtype: int64\n",
      "315850\n"
     ]
    }
   ],
   "source": [
    "q1,q3 = np.percentile(df['salary'],[25,75])\n",
    "iqr = q3-q1\n",
    "lower = q1-1.5*iqr\n",
    "upper = q3+1.5*iqr\n",
    "outlier = df['salary'][(df['salary']>upper)|(df['salary']<lower)]\n",
    "print(outlier)\n",
    "print(min(outlier))"
   ]
  },
  {
   "cell_type": "code",
   "execution_count": 10,
   "id": "b7bc9cfc",
   "metadata": {},
   "outputs": [],
   "source": [
    "# remove outliers\n",
    "df = df[df['salary']<=315850]"
   ]
  },
  {
   "cell_type": "code",
   "execution_count": 11,
   "id": "b0918b6e",
   "metadata": {},
   "outputs": [
    {
     "data": {
      "image/png": "[encoded data removed]",
      "text/plain": [
       "<Figure size 640x480 with 1 Axes>"
      ]
     },
     "metadata": {},
     "output_type": "display_data"
    }
   ],
   "source": [
    "# check the outliers\n",
    "sns.boxplot(x ='salary_in_usd',data = df)\n",
    "plt.show()"
   ]
  },
  {
   "cell_type": "code",
   "execution_count": 12,
   "id": "d594a94f",
   "metadata": {},
   "outputs": [
    {
     "name": "stdout",
     "output_type": "stream",
     "text": [
      "831      312300\n",
      "1018     314100\n",
      "1290     315000\n",
      "1800     312287\n",
      "1963     323295\n",
      "3651     313000\n",
      "3958     314000\n",
      "4218     313000\n",
      "4222     315000\n",
      "4450     314100\n",
      "8615     369120\n",
      "9044     369120\n",
      "9058     369120\n",
      "10613    315300\n",
      "11220    315850\n",
      "11486    315850\n",
      "12605    323905\n",
      "14219    314100\n",
      "15217    315000\n",
      "Name: salary_in_usd, dtype: int64\n",
      "312287\n"
     ]
    }
   ],
   "source": [
    "q1,q3 = np.percentile(df['salary_in_usd'],[25,75])\n",
    "iqr = q3-q1\n",
    "lower = q1-1.5*iqr\n",
    "upper = q3+1.5*iqr\n",
    "outlier = df['salary_in_usd'][(df['salary_in_usd']>upper)|(df['salary_in_usd']<lower)]\n",
    "print(outlier)\n",
    "print(min(outlier))"
   ]
  },
  {
   "cell_type": "code",
   "execution_count": 13,
   "id": "e25ea698",
   "metadata": {},
   "outputs": [],
   "source": [
    "# remove outliers\n",
    "df = df[df['salary_in_usd']<=312287]"
   ]
  },
  {
   "cell_type": "code",
   "execution_count": 14,
   "id": "113e61f2",
   "metadata": {},
   "outputs": [
    {
     "data": {
      "image/png": "[encoded data removed]",
      "text/plain": [
       "<Figure size 640x480 with 1 Axes>"
      ]
     },
     "metadata": {},
     "output_type": "display_data"
    }
   ],
   "source": [
    "# data visulization\n",
    "sns.lineplot(x = 'work_year',y = 'salary',data = df)\n",
    "plt.show()"
   ]
  },
  {
   "cell_type": "code",
   "execution_count": 15,
   "id": "2c6f768e",
   "metadata": {},
   "outputs": [
    {
     "data": {
      "image/png": "[encoded data removed]",
      "text/plain": [
       "<Figure size 640x480 with 1 Axes>"
      ]
     },
     "metadata": {},
     "output_type": "display_data"
    }
   ],
   "source": [
    "a = sns.countplot(x = 'experience_level',data = df)\n",
    "for i in a.containers:\n",
    "    a.bar_label(i,)\n",
    "plt.show()"
   ]
  },
  {
   "cell_type": "code",
   "execution_count": 16,
   "id": "9e813d0c",
   "metadata": {},
   "outputs": [
    {
     "data": {
      "image/png": "[encoded data removed]",
      "text/plain": [
       "<Figure size 640x480 with 1 Axes>"
      ]
     },
     "metadata": {},
     "output_type": "display_data"
    }
   ],
   "source": [
    "b = sns.countplot(x = 'employment_type',data = df)\n",
    "for i in b.containers:\n",
    "    b.bar_label(i,)\n",
    "plt.show()"
   ]
  },
  {
   "cell_type": "code",
   "execution_count": 17,
   "id": "09dfb0e4",
   "metadata": {},
   "outputs": [
    {
     "data": {
      "image/png": "[encoded data removed]",
      "text/plain": [
       "<Figure size 640x480 with 1 Axes>"
      ]
     },
     "metadata": {},
     "output_type": "display_data"
    }
   ],
   "source": [
    "c = df['company_size'].value_counts()\n",
    "plt.pie(x = c.values,labels = c.index,autopct='%.2f%%')\n",
    "plt.show()"
   ]
  },
  {
   "cell_type": "code",
   "execution_count": 18,
   "id": "afcf519a",
   "metadata": {},
   "outputs": [
    {
     "data": {
      "image/png": "[encoded data removed]",
      "text/plain": [
       "<Figure size 640x480 with 1 Axes>"
      ]
     },
     "metadata": {},
     "output_type": "display_data"
    }
   ],
   "source": [
    "d = df.groupby('job_title')['salary'].max().sort_values(ascending = False).head(5)\n",
    "e = sns.barplot(x = d.index,y = d.values)\n",
    "for i in e.containers:\n",
    "    e.bar_label(i,)\n",
    "plt.xticks(rotation = 80)\n",
    "plt.show()"
   ]
  },
  {
   "cell_type": "code",
   "execution_count": 19,
   "id": "b8b2032b",
   "metadata": {},
   "outputs": [],
   "source": [
    "# future enconding\n",
    "from sklearn.preprocessing import LabelEncoder"
   ]
  },
  {
   "cell_type": "code",
   "execution_count": 20,
   "id": "42596bc5",
   "metadata": {},
   "outputs": [],
   "source": [
    "la = LabelEncoder()"
   ]
  },
  {
   "cell_type": "code",
   "execution_count": 21,
   "id": "1ce002b1",
   "metadata": {},
   "outputs": [],
   "source": [
    "df['newexperience_level'] = la.fit_transform(df['experience_level'])"
   ]
  },
  {
   "cell_type": "code",
   "execution_count": 22,
   "id": "14f17a92",
   "metadata": {},
   "outputs": [],
   "source": [
    "df['newemployment_type'] = la.fit_transform(df['employment_type'])"
   ]
  },
  {
   "cell_type": "code",
   "execution_count": 23,
   "id": "2d38e681",
   "metadata": {},
   "outputs": [],
   "source": [
    "df['newcompany_size'] = la.fit_transform(df['company_size'])"
   ]
  },
  {
   "cell_type": "code",
   "execution_count": 24,
   "id": "b79cdb3b",
   "metadata": {},
   "outputs": [],
   "source": [
    "df['newjob_title'] = la.fit_transform(df['job_title'])"
   ]
  },
  {
   "cell_type": "code",
   "execution_count": 25,
   "id": "e3b6bdf3",
   "metadata": {},
   "outputs": [],
   "source": [
    "df['newsalary_currency'] = la.fit_transform(df['salary_currency'])"
   ]
  },
  {
   "cell_type": "code",
   "execution_count": 26,
   "id": "5a906092",
   "metadata": {},
   "outputs": [],
   "source": [
    "df['newemployee_residence'] = la.fit_transform(df['employee_residence'])"
   ]
  },
  {
   "cell_type": "code",
   "execution_count": 27,
   "id": "75964112",
   "metadata": {},
   "outputs": [],
   "source": [
    "df['newcompany_location'] = la.fit_transform(df['company_location'])"
   ]
  },
  {
   "cell_type": "code",
   "execution_count": 28,
   "id": "ec1ff96b",
   "metadata": {},
   "outputs": [
    {
     "data": {
      "text/html": [
       "<div>\n",
       "<style scoped>\n",
       "    .dataframe tbody tr th:only-of-type {\n",
       "        vertical-align: middle;\n",
       "    }\n",
       "\n",
       "    .dataframe tbody tr th {\n",
       "        vertical-align: top;\n",
       "    }\n",
       "\n",
       "    .dataframe thead th {\n",
       "        text-align: right;\n",
       "    }\n",
       "</style>\n",
       "<table border=\"1\" class=\"dataframe\">\n",
       "  <thead>\n",
       "    <tr style=\"text-align: right;\">\n",
       "      <th></th>\n",
       "      <th>work_year</th>\n",
       "      <th>experience_level</th>\n",
       "      <th>employment_type</th>\n",
       "      <th>job_title</th>\n",
       "      <th>salary</th>\n",
       "      <th>salary_currency</th>\n",
       "      <th>salary_in_usd</th>\n",
       "      <th>employee_residence</th>\n",
       "      <th>remote_ratio</th>\n",
       "      <th>company_location</th>\n",
       "      <th>company_size</th>\n",
       "      <th>newexperience_level</th>\n",
       "      <th>newemployment_type</th>\n",
       "      <th>newcompany_size</th>\n",
       "      <th>newjob_title</th>\n",
       "      <th>newsalary_currency</th>\n",
       "      <th>newemployee_residence</th>\n",
       "      <th>newcompany_location</th>\n",
       "    </tr>\n",
       "  </thead>\n",
       "  <tbody>\n",
       "    <tr>\n",
       "      <th>0</th>\n",
       "      <td>2024</td>\n",
       "      <td>SE</td>\n",
       "      <td>FT</td>\n",
       "      <td>AI Engineer</td>\n",
       "      <td>202730</td>\n",
       "      <td>USD</td>\n",
       "      <td>202730</td>\n",
       "      <td>US</td>\n",
       "      <td>0</td>\n",
       "      <td>US</td>\n",
       "      <td>M</td>\n",
       "      <td>3</td>\n",
       "      <td>2</td>\n",
       "      <td>1</td>\n",
       "      <td>2</td>\n",
       "      <td>11</td>\n",
       "      <td>82</td>\n",
       "      <td>71</td>\n",
       "    </tr>\n",
       "    <tr>\n",
       "      <th>1</th>\n",
       "      <td>2024</td>\n",
       "      <td>SE</td>\n",
       "      <td>FT</td>\n",
       "      <td>AI Engineer</td>\n",
       "      <td>92118</td>\n",
       "      <td>USD</td>\n",
       "      <td>92118</td>\n",
       "      <td>US</td>\n",
       "      <td>0</td>\n",
       "      <td>US</td>\n",
       "      <td>M</td>\n",
       "      <td>3</td>\n",
       "      <td>2</td>\n",
       "      <td>1</td>\n",
       "      <td>2</td>\n",
       "      <td>11</td>\n",
       "      <td>82</td>\n",
       "      <td>71</td>\n",
       "    </tr>\n",
       "    <tr>\n",
       "      <th>2</th>\n",
       "      <td>2024</td>\n",
       "      <td>SE</td>\n",
       "      <td>FT</td>\n",
       "      <td>Data Engineer</td>\n",
       "      <td>130500</td>\n",
       "      <td>USD</td>\n",
       "      <td>130500</td>\n",
       "      <td>US</td>\n",
       "      <td>0</td>\n",
       "      <td>US</td>\n",
       "      <td>M</td>\n",
       "      <td>3</td>\n",
       "      <td>2</td>\n",
       "      <td>1</td>\n",
       "      <td>56</td>\n",
       "      <td>11</td>\n",
       "      <td>82</td>\n",
       "      <td>71</td>\n",
       "    </tr>\n",
       "    <tr>\n",
       "      <th>3</th>\n",
       "      <td>2024</td>\n",
       "      <td>SE</td>\n",
       "      <td>FT</td>\n",
       "      <td>Data Engineer</td>\n",
       "      <td>96000</td>\n",
       "      <td>USD</td>\n",
       "      <td>96000</td>\n",
       "      <td>US</td>\n",
       "      <td>0</td>\n",
       "      <td>US</td>\n",
       "      <td>M</td>\n",
       "      <td>3</td>\n",
       "      <td>2</td>\n",
       "      <td>1</td>\n",
       "      <td>56</td>\n",
       "      <td>11</td>\n",
       "      <td>82</td>\n",
       "      <td>71</td>\n",
       "    </tr>\n",
       "    <tr>\n",
       "      <th>4</th>\n",
       "      <td>2024</td>\n",
       "      <td>SE</td>\n",
       "      <td>FT</td>\n",
       "      <td>Machine Learning Engineer</td>\n",
       "      <td>190000</td>\n",
       "      <td>USD</td>\n",
       "      <td>190000</td>\n",
       "      <td>US</td>\n",
       "      <td>0</td>\n",
       "      <td>US</td>\n",
       "      <td>M</td>\n",
       "      <td>3</td>\n",
       "      <td>2</td>\n",
       "      <td>1</td>\n",
       "      <td>118</td>\n",
       "      <td>11</td>\n",
       "      <td>82</td>\n",
       "      <td>71</td>\n",
       "    </tr>\n",
       "    <tr>\n",
       "      <th>...</th>\n",
       "      <td>...</td>\n",
       "      <td>...</td>\n",
       "      <td>...</td>\n",
       "      <td>...</td>\n",
       "      <td>...</td>\n",
       "      <td>...</td>\n",
       "      <td>...</td>\n",
       "      <td>...</td>\n",
       "      <td>...</td>\n",
       "      <td>...</td>\n",
       "      <td>...</td>\n",
       "      <td>...</td>\n",
       "      <td>...</td>\n",
       "      <td>...</td>\n",
       "      <td>...</td>\n",
       "      <td>...</td>\n",
       "      <td>...</td>\n",
       "      <td>...</td>\n",
       "    </tr>\n",
       "    <tr>\n",
       "      <th>16527</th>\n",
       "      <td>2021</td>\n",
       "      <td>MI</td>\n",
       "      <td>FT</td>\n",
       "      <td>Data Engineer</td>\n",
       "      <td>24000</td>\n",
       "      <td>EUR</td>\n",
       "      <td>28369</td>\n",
       "      <td>MT</td>\n",
       "      <td>50</td>\n",
       "      <td>MT</td>\n",
       "      <td>L</td>\n",
       "      <td>2</td>\n",
       "      <td>2</td>\n",
       "      <td>0</td>\n",
       "      <td>56</td>\n",
       "      <td>5</td>\n",
       "      <td>55</td>\n",
       "      <td>48</td>\n",
       "    </tr>\n",
       "    <tr>\n",
       "      <th>16528</th>\n",
       "      <td>2021</td>\n",
       "      <td>SE</td>\n",
       "      <td>FT</td>\n",
       "      <td>Data Specialist</td>\n",
       "      <td>165000</td>\n",
       "      <td>USD</td>\n",
       "      <td>165000</td>\n",
       "      <td>US</td>\n",
       "      <td>100</td>\n",
       "      <td>US</td>\n",
       "      <td>L</td>\n",
       "      <td>3</td>\n",
       "      <td>2</td>\n",
       "      <td>0</td>\n",
       "      <td>90</td>\n",
       "      <td>11</td>\n",
       "      <td>82</td>\n",
       "      <td>71</td>\n",
       "    </tr>\n",
       "    <tr>\n",
       "      <th>16530</th>\n",
       "      <td>2021</td>\n",
       "      <td>MI</td>\n",
       "      <td>FT</td>\n",
       "      <td>Principal Data Scientist</td>\n",
       "      <td>151000</td>\n",
       "      <td>USD</td>\n",
       "      <td>151000</td>\n",
       "      <td>US</td>\n",
       "      <td>100</td>\n",
       "      <td>US</td>\n",
       "      <td>L</td>\n",
       "      <td>2</td>\n",
       "      <td>2</td>\n",
       "      <td>0</td>\n",
       "      <td>137</td>\n",
       "      <td>11</td>\n",
       "      <td>82</td>\n",
       "      <td>71</td>\n",
       "    </tr>\n",
       "    <tr>\n",
       "      <th>16531</th>\n",
       "      <td>2020</td>\n",
       "      <td>EN</td>\n",
       "      <td>FT</td>\n",
       "      <td>Data Scientist</td>\n",
       "      <td>105000</td>\n",
       "      <td>USD</td>\n",
       "      <td>105000</td>\n",
       "      <td>US</td>\n",
       "      <td>100</td>\n",
       "      <td>US</td>\n",
       "      <td>S</td>\n",
       "      <td>0</td>\n",
       "      <td>2</td>\n",
       "      <td>2</td>\n",
       "      <td>88</td>\n",
       "      <td>11</td>\n",
       "      <td>82</td>\n",
       "      <td>71</td>\n",
       "    </tr>\n",
       "    <tr>\n",
       "      <th>16532</th>\n",
       "      <td>2020</td>\n",
       "      <td>EN</td>\n",
       "      <td>CT</td>\n",
       "      <td>Business Data Analyst</td>\n",
       "      <td>100000</td>\n",
       "      <td>USD</td>\n",
       "      <td>100000</td>\n",
       "      <td>US</td>\n",
       "      <td>100</td>\n",
       "      <td>US</td>\n",
       "      <td>L</td>\n",
       "      <td>0</td>\n",
       "      <td>0</td>\n",
       "      <td>0</td>\n",
       "      <td>27</td>\n",
       "      <td>11</td>\n",
       "      <td>82</td>\n",
       "      <td>71</td>\n",
       "    </tr>\n",
       "  </tbody>\n",
       "</table>\n",
       "<p>16173 rows × 18 columns</p>\n",
       "</div>"
      ],
      "text/plain": [
       "       work_year experience_level employment_type                  job_title  \\\n",
       "0           2024               SE              FT                AI Engineer   \n",
       "1           2024               SE              FT                AI Engineer   \n",
       "2           2024               SE              FT              Data Engineer   \n",
       "3           2024               SE              FT              Data Engineer   \n",
       "4           2024               SE              FT  Machine Learning Engineer   \n",
       "...          ...              ...             ...                        ...   \n",
       "16527       2021               MI              FT              Data Engineer   \n",
       "16528       2021               SE              FT            Data Specialist   \n",
       "16530       2021               MI              FT   Principal Data Scientist   \n",
       "16531       2020               EN              FT             Data Scientist   \n",
       "16532       2020               EN              CT      Business Data Analyst   \n",
       "\n",
       "       salary salary_currency  salary_in_usd employee_residence  remote_ratio  \\\n",
       "0      202730             USD         202730                 US             0   \n",
       "1       92118             USD          92118                 US             0   \n",
       "2      130500             USD         130500                 US             0   \n",
       "3       96000             USD          96000                 US             0   \n",
       "4      190000             USD         190000                 US             0   \n",
       "...       ...             ...            ...                ...           ...   \n",
       "16527   24000             EUR          28369                 MT            50   \n",
       "16528  165000             USD         165000                 US           100   \n",
       "16530  151000             USD         151000                 US           100   \n",
       "16531  105000             USD         105000                 US           100   \n",
       "16532  100000             USD         100000                 US           100   \n",
       "\n",
       "      company_location company_size  newexperience_level  newemployment_type  \\\n",
       "0                   US            M                    3                   2   \n",
       "1                   US            M                    3                   2   \n",
       "2                   US            M                    3                   2   \n",
       "3                   US            M                    3                   2   \n",
       "4                   US            M                    3                   2   \n",
       "...                ...          ...                  ...                 ...   \n",
       "16527               MT            L                    2                   2   \n",
       "16528               US            L                    3                   2   \n",
       "16530               US            L                    2                   2   \n",
       "16531               US            S                    0                   2   \n",
       "16532               US            L                    0                   0   \n",
       "\n",
       "       newcompany_size  newjob_title  newsalary_currency  \\\n",
       "0                    1             2                  11   \n",
       "1                    1             2                  11   \n",
       "2                    1            56                  11   \n",
       "3                    1            56                  11   \n",
       "4                    1           118                  11   \n",
       "...                ...           ...                 ...   \n",
       "16527                0            56                   5   \n",
       "16528                0            90                  11   \n",
       "16530                0           137                  11   \n",
       "16531                2            88                  11   \n",
       "16532                0            27                  11   \n",
       "\n",
       "       newemployee_residence  newcompany_location  \n",
       "0                         82                   71  \n",
       "1                         82                   71  \n",
       "2                         82                   71  \n",
       "3                         82                   71  \n",
       "4                         82                   71  \n",
       "...                      ...                  ...  \n",
       "16527                     55                   48  \n",
       "16528                     82                   71  \n",
       "16530                     82                   71  \n",
       "16531                     82                   71  \n",
       "16532                     82                   71  \n",
       "\n",
       "[16173 rows x 18 columns]"
      ]
     },
     "execution_count": 28,
     "metadata": {},
     "output_type": "execute_result"
    }
   ],
   "source": [
    "df"
   ]
  },
  {
   "cell_type": "code",
   "execution_count": 29,
   "id": "fd5acc4e",
   "metadata": {},
   "outputs": [],
   "source": [
    "df.drop(['experience_level','employment_type','company_size','job_title','salary_currency','employee_residence','company_location'],axis = 1,inplace = True)"
   ]
  },
  {
   "cell_type": "code",
   "execution_count": 30,
   "id": "12569af3",
   "metadata": {},
   "outputs": [
    {
     "data": {
      "text/plain": [
       "array([[  2024, 202730,      0, ...,     11,     82,     71],\n",
       "       [  2024,  92118,      0, ...,     11,     82,     71],\n",
       "       [  2024, 130500,      0, ...,     11,     82,     71],\n",
       "       ...,\n",
       "       [  2021, 151000,    100, ...,     11,     82,     71],\n",
       "       [  2020, 105000,    100, ...,     11,     82,     71],\n",
       "       [  2020, 100000,    100, ...,     11,     82,     71]], dtype=int64)"
      ]
     },
     "execution_count": 30,
     "metadata": {},
     "output_type": "execute_result"
    }
   ],
   "source": [
    "# input columns\n",
    "x = df.drop('salary',axis = 1).values\n",
    "x"
   ]
  },
  {
   "cell_type": "code",
   "execution_count": 31,
   "id": "c6de2886",
   "metadata": {},
   "outputs": [
    {
     "data": {
      "text/plain": [
       "array([202730,  92118, 130500, ..., 151000, 105000, 100000], dtype=int64)"
      ]
     },
     "execution_count": 31,
     "metadata": {},
     "output_type": "execute_result"
    }
   ],
   "source": [
    "# output columns\n",
    "y = df['salary'].values\n",
    "y"
   ]
  },
  {
   "cell_type": "code",
   "execution_count": 32,
   "id": "f0e97f7a",
   "metadata": {},
   "outputs": [],
   "source": [
    "from sklearn.model_selection import train_test_split\n",
    "from sklearn.linear_model import LinearRegression"
   ]
  },
  {
   "cell_type": "code",
   "execution_count": 33,
   "id": "48aac045",
   "metadata": {},
   "outputs": [],
   "source": [
    "x_train,x_test,y_train,y_test = train_test_split(x,y,test_size = 0.2)"
   ]
  },
  {
   "cell_type": "code",
   "execution_count": 34,
   "id": "c68d4b8f",
   "metadata": {},
   "outputs": [],
   "source": [
    "model = LinearRegression()"
   ]
  },
  {
   "cell_type": "code",
   "execution_count": 35,
   "id": "1bfc1be7",
   "metadata": {},
   "outputs": [
    {
     "data": {
      "text/plain": [
       "LinearRegression()"
      ]
     },
     "execution_count": 35,
     "metadata": {},
     "output_type": "execute_result"
    }
   ],
   "source": [
    "model.fit(x_train,y_train)"
   ]
  },
  {
   "cell_type": "code",
   "execution_count": 40,
   "id": "2081e7fb",
   "metadata": {},
   "outputs": [
    {
     "data": {
      "text/plain": [
       "0.9906194983646675"
      ]
     },
     "execution_count": 40,
     "metadata": {},
     "output_type": "execute_result"
    }
   ],
   "source": [
    "model.score(x_test,y_test)"
   ]
  },
  {
   "cell_type": "code",
   "execution_count": 38,
   "id": "014f2be9",
   "metadata": {},
   "outputs": [
    {
     "data": {
      "text/plain": [
       "array([ 93364.49598754, 193848.23525932, 246830.33494118, ...,\n",
       "       139426.35622636, 149434.08554948, 121348.59828232])"
      ]
     },
     "execution_count": 38,
     "metadata": {},
     "output_type": "execute_result"
    }
   ],
   "source": [
    "y_pre = model.predict(x_test)\n",
    "y_pre"
   ]
  },
  {
   "cell_type": "code",
   "execution_count": 41,
   "id": "c88ac377",
   "metadata": {},
   "outputs": [
    {
     "data": {
      "text/plain": [
       "array([ 93838, 194500, 247300, ..., 140000, 150000, 122000], dtype=int64)"
      ]
     },
     "execution_count": 41,
     "metadata": {},
     "output_type": "execute_result"
    }
   ],
   "source": [
    "y_test"
   ]
  },
  {
   "cell_type": "code",
   "execution_count": 42,
   "id": "91b16be5",
   "metadata": {},
   "outputs": [],
   "source": [
    "from sklearn.metrics import r2_score"
   ]
  },
  {
   "cell_type": "code",
   "execution_count": 43,
   "id": "50c8b572",
   "metadata": {},
   "outputs": [
    {
     "data": {
      "text/plain": [
       "0.9906194983646675"
      ]
     },
     "execution_count": 43,
     "metadata": {},
     "output_type": "execute_result"
    }
   ],
   "source": [
    "r2_score(y_test,y_pre)"
   ]
  },
  {
   "cell_type": "code",
   "execution_count": null,
   "id": "495c7db6",
   "metadata": {},
   "outputs": [],
   "source": []
  }
 ],
 "metadata": {
  "kernelspec": {
   "display_name": "Python 3 (ipykernel)",
   "language": "python",
   "name": "python3"
  },
  "language_info": {
   "codemirror_mode": {
    "name": "ipython",
    "version": 3
   },
   "file_extension": ".py",
   "mimetype": "text/x-python",
   "name": "python",
   "nbconvert_exporter": "python",
   "pygments_lexer": "ipython3",
   "version": "3.9.13"
  }
 },
 "nbformat": 4,
 "nbformat_minor": 5
}
